{
  "nbformat": 4,
  "nbformat_minor": 0,
  "metadata": {
    "colab": {
      "provenance": [],
      "include_colab_link": true
    },
    "kernelspec": {
      "name": "python3",
      "display_name": "Python 3"
    },
    "language_info": {
      "name": "python"
    }
  },
  "cells": [
    {
      "cell_type": "markdown",
      "metadata": {
        "id": "view-in-github",
        "colab_type": "text"
      },
      "source": [
        "<a href=\"https://colab.research.google.com/github/udoyroy98/Motor_Fault_Detection_ML/blob/main/RF_fold_Motor.ipynb\" target=\"_parent\"><img src=\"https://colab.research.google.com/assets/colab-badge.svg\" alt=\"Open In Colab\"/></a>"
      ]
    },
    {
      "cell_type": "code",
      "execution_count": null,
      "metadata": {
        "id": "im0FBr2nFDGk"
      },
      "outputs": [],
      "source": [
        "import numpy as np\n",
        "import pandas as pd\n",
        "import matplotlib as plt\n",
        "import matplotlib.pyplot as plt\n",
        "from google.colab import drive\n",
        "import seaborn as snNew\n",
        "import pandas as pdNew\n",
        "from sklearn.preprocessing import StandardScaler\n",
        "from sklearn.model_selection import train_test_split, GridSearchCV\n",
        "from sklearn.model_selection import RandomizedSearchCV\n",
        "from sklearn.ensemble import RandomForestClassifier\n",
        "from sklearn.metrics import accuracy_score, recall_score, precision_score, f1_score\n",
        "import seaborn as sns\n",
        "import matplotlib.pyplot as pltNew"
      ]
    },
    {
      "cell_type": "code",
      "source": [
        "drive.mount('/content/drive')"
      ],
      "metadata": {
        "colab": {
          "base_uri": "https://localhost:8080/"
        },
        "id": "h95Z5IYBOBpL",
        "outputId": "fbfca31e-9087-4808-e4a3-d55b3f2d22d9"
      },
      "execution_count": null,
      "outputs": [
        {
          "output_type": "stream",
          "name": "stdout",
          "text": [
            "Mounted at /content/drive\n"
          ]
        }
      ]
    },
    {
      "cell_type": "code",
      "source": [
        "data = pd.read_csv('/content/drive/MyDrive/Data/0-5train.csv')"
      ],
      "metadata": {
        "id": "Yr2NfcQhOBsb"
      },
      "execution_count": null,
      "outputs": []
    },
    {
      "cell_type": "code",
      "source": [
        "X = data.iloc[:,:-1]\n",
        "y = data.iloc[:,9]"
      ],
      "metadata": {
        "id": "Dk6b1M2SOBvk"
      },
      "execution_count": null,
      "outputs": []
    },
    {
      "cell_type": "code",
      "source": [
        "\n",
        "# Split dataset into training and testing sets\n",
        "X_train, X_test, y_train, y_test = train_test_split(X, y, test_size=0.25, random_state=42)\n",
        "# Feature scaling\n",
        "scaler = StandardScaler()\n",
        "X_train = scaler.fit_transform(X_train)\n",
        "X_test = scaler.transform(X_test)\n",
        "\n",
        "# Setting up hyperparameter grid for tuning\n",
        "param_grid = {\n",
        "    'n_estimators': [10, 75, 150],\n",
        "    'max_depth': [None, 15, 30],\n",
        "    'min_samples_split': [2, 10],\n",
        "    'min_samples_leaf': [1, 4]\n",
        "}\n",
        "\n",
        "# Grid search with cross-validation\n",
        "clf = RandomizedSearchCV(RandomForestClassifier(), param_grid, n_iter=25, cv=5, scoring='accuracy',n_jobs=-1)\n",
        "clf.fit(X_train, y_train)\n",
        "\n",
        "print(f\"Best parameters: {clf.best_params_}\")\n",
        "\n",
        "# Predict using the best model\n",
        "y_pred = clf.best_estimator_.predict(X_test)\n",
        "\n"
      ],
      "metadata": {
        "id": "2tu4ynaPFjyg",
        "colab": {
          "base_uri": "https://localhost:8080/"
        },
        "outputId": "c5a70671-32b4-4b5d-ade8-e1a65a083594"
      },
      "execution_count": null,
      "outputs": [
        {
          "output_type": "stream",
          "name": "stdout",
          "text": [
            "Best parameters: {'n_estimators': 75, 'min_samples_split': 2, 'min_samples_leaf': 1, 'max_depth': 30}\n"
          ]
        }
      ]
    },
    {
      "cell_type": "code",
      "source": [
        "# Metrics\n",
        "accuracy = accuracy_score(y_test, y_pred)\n",
        "recall = recall_score(y_test, y_pred, average='macro')\n",
        "precision = precision_score(y_test, y_pred, average='macro')\n",
        "f1_score =  f1_score(y_test, y_pred, average='macro')\n",
        "\n",
        "\n",
        "print(f\"Accuracy: {accuracy:.4f}\")\n",
        "print(f\"Recall: {recall:.4f}\")\n",
        "print(f\"Precision: {precision:.4f}\")\n",
        "print(f\"F1-Score: {f1_score:.4f}\")"
      ],
      "metadata": {
        "id": "y3OLAlJ_Fj1u",
        "colab": {
          "base_uri": "https://localhost:8080/"
        },
        "outputId": "17fc8831-a686-4b64-c49a-33ee3999257b"
      },
      "execution_count": null,
      "outputs": [
        {
          "output_type": "stream",
          "name": "stdout",
          "text": [
            "Accuracy: 0.9992\n",
            "Recall: 0.9992\n",
            "Precision: 0.9992\n",
            "F1-Score: 0.9992\n"
          ]
        }
      ]
    },
    {
      "cell_type": "code",
      "source": [
        "from sklearn.metrics import classification_report\n",
        "print(classification_report(y_test, y_pred)) #accuracy"
      ],
      "metadata": {
        "id": "vrxFJ6vbFj5Q",
        "colab": {
          "base_uri": "https://localhost:8080/"
        },
        "outputId": "33fc8aee-47aa-49d5-b860-5ea86b4504a7"
      },
      "execution_count": null,
      "outputs": [
        {
          "output_type": "stream",
          "name": "stdout",
          "text": [
            "              precision    recall  f1-score   support\n",
            "\n",
            "           0       1.00      1.00      1.00     25035\n",
            "           1       1.00      1.00      1.00     25074\n",
            "           2       1.00      1.00      1.00     24894\n",
            "\n",
            "    accuracy                           1.00     75003\n",
            "   macro avg       1.00      1.00      1.00     75003\n",
            "weighted avg       1.00      1.00      1.00     75003\n",
            "\n"
          ]
        }
      ]
    },
    {
      "cell_type": "code",
      "source": [
        "from sklearn.metrics import confusion_matrix\n",
        "c_mat = confusion_matrix(y_test, y_pred)\n",
        "c_mat"
      ],
      "metadata": {
        "id": "AKlwoSnGeGSH",
        "colab": {
          "base_uri": "https://localhost:8080/"
        },
        "outputId": "09b4c3fc-8300-4d0f-8bf2-966d017080e9"
      },
      "execution_count": null,
      "outputs": [
        {
          "output_type": "execute_result",
          "data": {
            "text/plain": [
              "array([[25033,     0,     2],\n",
              "       [    0, 25042,    32],\n",
              "       [    0,    28, 24866]])"
            ]
          },
          "metadata": {},
          "execution_count": 8
        }
      ]
    },
    {
      "cell_type": "code",
      "source": [
        "ax= plt.subplot()\n",
        "confusion_matrix = pdNew.DataFrame(c_mat, range(3), range(3))\n",
        "snNew.heatmap(confusion_matrix, annot=True ,cmap=\"YlGn\", ax=ax)\n",
        "\n",
        "ax.set_xlabel('Predicted labels');ax.set_ylabel('True labels');\n",
        "ax.xaxis.set_ticklabels(['Ideal', '5%Fault','10%Fault']); ax.yaxis.set_ticklabels(['Ideal', '5%Fault','10%Fault']);\n",
        "pltNew.show()"
      ],
      "metadata": {
        "id": "-lJgd_1We8Cj",
        "colab": {
          "base_uri": "https://localhost:8080/",
          "height": 454
        },
        "outputId": "a67b6310-b377-41e6-b51e-6802cbcf0a69"
      },
      "execution_count": null,
      "outputs": [
        {
          "output_type": "display_data",
          "data": {
            "text/plain": [
              "<Figure size 640x480 with 2 Axes>"
            ],
            "image/png": "[encoded data removed]"
          },
          "metadata": {}
        }
      ]
    }
  ]
}