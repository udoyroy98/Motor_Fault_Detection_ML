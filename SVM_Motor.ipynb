{
  "nbformat": 4,
  "nbformat_minor": 0,
  "metadata": {
    "colab": {
      "provenance": [],
      "authorship_tag": "ABX9TyNrqHwYXQ2GBHtmrT7TtlMr",
      "include_colab_link": true
    },
    "kernelspec": {
      "name": "python3",
      "display_name": "Python 3"
    },
    "language_info": {
      "name": "python"
    }
  },
  "cells": [
    {
      "cell_type": "markdown",
      "metadata": {
        "id": "view-in-github",
        "colab_type": "text"
      },
      "source": [
        "<a href=\"https://colab.research.google.com/github/udoyroy98/Motor_Fault_Detection_ML/blob/main/SVM_Motor.ipynb\" target=\"_parent\"><img src=\"https://colab.research.google.com/assets/colab-badge.svg\" alt=\"Open In Colab\"/></a>"
      ]
    },
    {
      "cell_type": "code",
      "execution_count": null,
      "metadata": {
        "id": "ituM0vJwT2Wu"
      },
      "outputs": [],
      "source": [
        "import pandas as pd\n",
        "import numpy as np\n",
        "import seaborn as sns\n",
        "import matplotlib as plt\n",
        "import matplotlib.pyplot as plt\n",
        "from google.colab import drive\n",
        "import seaborn as snNew\n",
        "import pandas as pdNew\n",
        "import matplotlib.pyplot as pltNew\n"
      ]
    },
    {
      "cell_type": "code",
      "source": [
        "drive.mount('/content/drive')\n",
        "data = pd.read_csv('/content/drive/MyDrive/Dataset/0-5train.csv')\n"
      ],
      "metadata": {
        "id": "syKiaNrTT20d"
      },
      "execution_count": null,
      "outputs": []
    },
    {
      "cell_type": "code",
      "source": [
        "x = data.iloc[:,:-1]\n",
        "y = data.iloc[:,9]\n"
      ],
      "metadata": {
        "id": "a5dT4AepT230"
      },
      "execution_count": null,
      "outputs": []
    },
    {
      "cell_type": "code",
      "source": [
        "from sklearn.model_selection import train_test_split\n",
        "xtrain,xtest,ytrain,ytest = train_test_split(x,y,test_size=0.25 , random_state=42)\n",
        "#normalize\n",
        "from sklearn.preprocessing import StandardScaler\n",
        "sc = StandardScaler()\n",
        "xtrain = sc.fit_transform(xtrain)\n",
        "xtest = sc.transform(xtest)\n"
      ],
      "metadata": {
        "id": "0aFuyu7NT26-"
      },
      "execution_count": null,
      "outputs": []
    },
    {
      "cell_type": "code",
      "source": [
        "from sklearn.ensemble import BaggingClassifier\n",
        "from sklearn.multiclass import OneVsRestClassifier\n",
        "from sklearn.metrics import classification_report\n",
        "from sklearn import svm\n",
        "krn = ['linear','poly','rbf','sigmoid']\n",
        "rng_C = np.arange(1,5,7)\n",
        "rng_deg = np.arange(3,5,7)\n",
        "rng_co = np.arange(0.001,10,0.5)\n",
        "rng_gam = ['auto','scale']\n",
        "from sklearn.metrics import accuracy_score\n",
        "best_score=0\n",
        "for i in krn:\n",
        "  for j in rng_C:\n",
        "    for k in rng_deg:\n",
        "      for z in rng_co:\n",
        "        for x in rng_gam:\n",
        "          SVModel=svm.SVC(kernel=i,C=j,degree=k,coef0=z,gamma=x)\n",
        "          SVModel.fit(xtrain, ytrain)\n",
        "          acc_score=accuracy_score(ytest,SVModel.predict(xtest))\n",
        "          if best_score<acc_score:\n",
        "            best_score=acc_score\n",
        "            bi=i\n",
        "            bj=j\n",
        "            bk=k\n",
        "            bz=z\n",
        "            bx=x\n",
        "print(best_score,bi,bj,bk,bz,bx)\n"
      ],
      "metadata": {
        "id": "hSgmNdH1T29-"
      },
      "execution_count": null,
      "outputs": []
    },
    {
      "cell_type": "code",
      "source": [
        "model4 = OneVsRestClassifier(BaggingClassifier(svm.SVC(kernel = 'poly',degree=3,coef0=5.001,probability=True,gamma='auto',C=1)))\n",
        "model4.fit(xtrain, ytrain) #train model\n",
        "y_pred4 = model4.predict(xtest)\n",
        "print(classification_report(ytest, y_pred4)) #accuracy\n"
      ],
      "metadata": {
        "id": "dQnEVuBrT3BP"
      },
      "execution_count": null,
      "outputs": []
    },
    {
      "cell_type": "code",
      "source": [
        "from sklearn.preprocessing import label_binarize\n",
        "classes = np.unique(ytest)\n",
        "ytest_binarized = label_binarize(ytest,classes = np.unique(ytest))\n",
        "fpr = {}\n",
        "tpr = {}\n",
        "thresh = {}\n",
        "roc_auc = dict()\n",
        "n_class = classes.shape[0]\n",
        "for i in range(n_class):\n",
        "  fpr[i],tpr[i],thresh[i] = roc_curve(ytest_binarized[:,i],pred_prob4[:,i])\n",
        "  roc_auc[i] = auc(fpr[i],tpr[i])\n"
      ],
      "metadata": {
        "id": "KMRdX6y1T3EV"
      },
      "execution_count": null,
      "outputs": []
    },
    {
      "cell_type": "code",
      "source": [
        "#plotting\n",
        "plt.plot(fpr[0], tpr[0], linestyle='--',color='orange', label='Class 0 vs Rest(AUC=%0.2f)'%(roc_auc[0]))\n",
        "plt.plot(fpr[1], tpr[1], linestyle='--',color='green', label='Class 1 vs Rest(AUC=%0.2f)'%(roc_auc[1]))\n",
        "plt.plot(fpr[2], tpr[2], linestyle='--',color='blue', label='Class 2 vs Rest(AUC=%0.2f)'%(roc_auc[2]))\n",
        "plt.plot([0,1],[0,1],'r--')\n",
        "plt.xlim([0,1])\n",
        "plt.ylim([0,1.05])\n",
        "plt.title('Multiclass ROC curve')\n",
        "plt.xlabel('False positive rate')\n",
        "plt.ylabel('True positive rate')\n",
        "plt.legend(loc = 'Lower right')\n",
        "plt.show()\n"
      ],
      "metadata": {
        "id": "EZgv3bb5T3Hr"
      },
      "execution_count": null,
      "outputs": []
    },
    {
      "cell_type": "code",
      "source": [
        "from sklearn.metrics import confusion_matrix\n",
        "c_mat4 = confusion_matrix(ytest, y_pred4)\n",
        "c_mat4\n"
      ],
      "metadata": {
        "id": "J0994jaHT3KW"
      },
      "execution_count": null,
      "outputs": []
    },
    {
      "cell_type": "code",
      "source": [],
      "metadata": {
        "id": "rOQXr6VlT3N3"
      },
      "execution_count": null,
      "outputs": []
    }
  ]
}