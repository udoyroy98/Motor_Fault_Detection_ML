{
  "cells": [
    {
      "cell_type": "markdown",
      "metadata": {
        "id": "view-in-github",
        "colab_type": "text"
      },
      "source": [
        "<a href=\"https://colab.research.google.com/github/udoyroy98/Motor_Fault_Detection_ML/blob/main/ANN_motor.ipynb\" target=\"_parent\"><img src=\"https://colab.research.google.com/assets/colab-badge.svg\" alt=\"Open In Colab\"/></a>"
      ]
    },
    {
      "cell_type": "code",
      "execution_count": null,
      "metadata": {
        "id": "lRjItpYDQu6s"
      },
      "outputs": [],
      "source": [
        "import pandas as pd\n",
        "import numpy as np\n",
        "import seaborn as sns\n",
        "import matplotlib as plt\n",
        "import matplotlib.pyplot as plt\n",
        "from google.colab import drive\n",
        "import seaborn as snNew\n",
        "import pandas as pdNew\n",
        "import matplotlib.pyplot as pltNew"
      ]
    },
    {
      "cell_type": "code",
      "execution_count": null,
      "metadata": {
        "colab": {
          "base_uri": "https://localhost:8080/"
        },
        "id": "XcY6VoIIQ0B6",
        "outputId": "c6362105-c74e-4d35-c46f-52fb09402331"
      },
      "outputs": [
        {
          "output_type": "stream",
          "name": "stdout",
          "text": [
            "Mounted at /content/drive\n"
          ]
        }
      ],
      "source": [
        "drive.mount('/content/drive')"
      ]
    },
    {
      "cell_type": "code",
      "execution_count": null,
      "metadata": {
        "id": "BuJm-UP5Q0FB"
      },
      "outputs": [],
      "source": [
        "data = pd.read_csv('/content/drive/MyDrive/Dataset/0-5train.csv')"
      ]
    },
    {
      "cell_type": "code",
      "execution_count": null,
      "metadata": {
        "colab": {
          "base_uri": "https://localhost:8080/",
          "height": 394
        },
        "id": "KrYzaYhVQ0IS",
        "outputId": "4a09b1a5-cc5b-4159-f121-b5279d162446"
      },
      "outputs": [
        {
          "output_type": "execute_result",
          "data": {
            "text/plain": [
              "            Time        Isa        Isb        Isc        Ira        Irb  \\\n",
              "109727  1.828569  -2.200794   2.151504   0.049290  -0.003496   0.041565   \n",
              "77734   1.295369   5.437051 -15.125909   9.688858 -10.866078  10.162317   \n",
              "239786  3.996219   0.810931  -2.465621   1.654690  -0.042112   0.004793   \n",
              "204167  3.402569   1.834393   0.570654  -2.405047   0.038229  -0.041441   \n",
              "45721   0.761819   4.514149  -7.828303   3.314154  -6.816911   0.450531   \n",
              "8631    0.143669  21.556514   5.202002 -26.758516 -19.185917  25.317817   \n",
              "209829  3.496969   7.587579  -2.623214  -4.964365  -1.458051   6.303677   \n",
              "34030   0.566969  -7.650426   2.554180   5.096246  -5.811560   5.809543   \n",
              "17319   0.288469   5.816248  -9.357458   3.541210  11.077665  -4.195611   \n",
              "236810  3.946619  -1.102687   2.507234  -1.404547   0.039156   0.001508   \n",
              "295095  4.918069  -2.004074   7.639130  -5.635055   7.765060   0.840251   \n",
              "\n",
              "             Irc        Speed        Torque  Target  \n",
              "109727 -0.038069  1498.922981 -4.491700e-10       0  \n",
              "77734   0.703761  1508.662657 -2.111990e+01       2  \n",
              "239786  0.037319  1498.922981  9.040440e-12       0  \n",
              "204167  0.003212  1498.922981  6.413090e-12       0  \n",
              "45721   6.366380  1486.013461  2.334501e+01       2  \n",
              "8631   -6.131900   825.125952  3.824795e+01       1  \n",
              "209829 -4.845626  1488.776083 -3.130474e+01       1  \n",
              "34030   0.002017  1488.573177 -3.132056e+01       2  \n",
              "17319  -6.882054  1478.933947 -8.463121e+00       1  \n",
              "236810 -0.040664  1498.922981  8.635870e-12       0  \n",
              "295095 -8.605311  1478.385920 -1.420902e+01       1  "
            ],
            "text/html": [
              "\n",
              "  <div id=\"df-4bac5e3c-b706-430b-8e29-0d467b90a3c3\">\n",
              "    <div class=\"colab-df-container\">\n",
              "      <div>\n",
              "<style scoped>\n",
              "    .dataframe tbody tr th:only-of-type {\n",
              "        vertical-align: middle;\n",
              "    }\n",
              "\n",
              "    .dataframe tbody tr th {\n",
              "        vertical-align: top;\n",
              "    }\n",
              "\n",
              "    .dataframe thead th {\n",
              "        text-align: right;\n",
              "    }\n",
              "</style>\n",
              "<table border=\"1\" class=\"dataframe\">\n",
              "  <thead>\n",
              "    <tr style=\"text-align: right;\">\n",
              "      <th></th>\n",
              "      <th>Time</th>\n",
              "      <th>Isa</th>\n",
              "      <th>Isb</th>\n",
              "      <th>Isc</th>\n",
              "      <th>Ira</th>\n",
              "      <th>Irb</th>\n",
              "      <th>Irc</th>\n",
              "      <th>Speed</th>\n",
              "      <th>Torque</th>\n",
              "      <th>Target</th>\n",
              "    </tr>\n",
              "  </thead>\n",
              "  <tbody>\n",
              "    <tr>\n",
              "      <th>109727</th>\n",
              "      <td>1.828569</td>\n",
              "      <td>-2.200794</td>\n",
              "      <td>2.151504</td>\n",
              "      <td>0.049290</td>\n",
              "      <td>-0.003496</td>\n",
              "      <td>0.041565</td>\n",
              "      <td>-0.038069</td>\n",
              "      <td>1498.922981</td>\n",
              "      <td>-4.491700e-10</td>\n",
              "      <td>0</td>\n",
              "    </tr>\n",
              "    <tr>\n",
              "      <th>77734</th>\n",
              "      <td>1.295369</td>\n",
              "      <td>5.437051</td>\n",
              "      <td>-15.125909</td>\n",
              "      <td>9.688858</td>\n",
              "      <td>-10.866078</td>\n",
              "      <td>10.162317</td>\n",
              "      <td>0.703761</td>\n",
              "      <td>1508.662657</td>\n",
              "      <td>-2.111990e+01</td>\n",
              "      <td>2</td>\n",
              "    </tr>\n",
              "    <tr>\n",
              "      <th>239786</th>\n",
              "      <td>3.996219</td>\n",
              "      <td>0.810931</td>\n",
              "      <td>-2.465621</td>\n",
              "      <td>1.654690</td>\n",
              "      <td>-0.042112</td>\n",
              "      <td>0.004793</td>\n",
              "      <td>0.037319</td>\n",
              "      <td>1498.922981</td>\n",
              "      <td>9.040440e-12</td>\n",
              "      <td>0</td>\n",
              "    </tr>\n",
              "    <tr>\n",
              "      <th>204167</th>\n",
              "      <td>3.402569</td>\n",
              "      <td>1.834393</td>\n",
              "      <td>0.570654</td>\n",
              "      <td>-2.405047</td>\n",
              "      <td>0.038229</td>\n",
              "      <td>-0.041441</td>\n",
              "      <td>0.003212</td>\n",
              "      <td>1498.922981</td>\n",
              "      <td>6.413090e-12</td>\n",
              "      <td>0</td>\n",
              "    </tr>\n",
              "    <tr>\n",
              "      <th>45721</th>\n",
              "      <td>0.761819</td>\n",
              "      <td>4.514149</td>\n",
              "      <td>-7.828303</td>\n",
              "      <td>3.314154</td>\n",
              "      <td>-6.816911</td>\n",
              "      <td>0.450531</td>\n",
              "      <td>6.366380</td>\n",
              "      <td>1486.013461</td>\n",
              "      <td>2.334501e+01</td>\n",
              "      <td>2</td>\n",
              "    </tr>\n",
              "    <tr>\n",
              "      <th>8631</th>\n",
              "      <td>0.143669</td>\n",
              "      <td>21.556514</td>\n",
              "      <td>5.202002</td>\n",
              "      <td>-26.758516</td>\n",
              "      <td>-19.185917</td>\n",
              "      <td>25.317817</td>\n",
              "      <td>-6.131900</td>\n",
              "      <td>825.125952</td>\n",
              "      <td>3.824795e+01</td>\n",
              "      <td>1</td>\n",
              "    </tr>\n",
              "    <tr>\n",
              "      <th>209829</th>\n",
              "      <td>3.496969</td>\n",
              "      <td>7.587579</td>\n",
              "      <td>-2.623214</td>\n",
              "      <td>-4.964365</td>\n",
              "      <td>-1.458051</td>\n",
              "      <td>6.303677</td>\n",
              "      <td>-4.845626</td>\n",
              "      <td>1488.776083</td>\n",
              "      <td>-3.130474e+01</td>\n",
              "      <td>1</td>\n",
              "    </tr>\n",
              "    <tr>\n",
              "      <th>34030</th>\n",
              "      <td>0.566969</td>\n",
              "      <td>-7.650426</td>\n",
              "      <td>2.554180</td>\n",
              "      <td>5.096246</td>\n",
              "      <td>-5.811560</td>\n",
              "      <td>5.809543</td>\n",
              "      <td>0.002017</td>\n",
              "      <td>1488.573177</td>\n",
              "      <td>-3.132056e+01</td>\n",
              "      <td>2</td>\n",
              "    </tr>\n",
              "    <tr>\n",
              "      <th>17319</th>\n",
              "      <td>0.288469</td>\n",
              "      <td>5.816248</td>\n",
              "      <td>-9.357458</td>\n",
              "      <td>3.541210</td>\n",
              "      <td>11.077665</td>\n",
              "      <td>-4.195611</td>\n",
              "      <td>-6.882054</td>\n",
              "      <td>1478.933947</td>\n",
              "      <td>-8.463121e+00</td>\n",
              "      <td>1</td>\n",
              "    </tr>\n",
              "    <tr>\n",
              "      <th>236810</th>\n",
              "      <td>3.946619</td>\n",
              "      <td>-1.102687</td>\n",
              "      <td>2.507234</td>\n",
              "      <td>-1.404547</td>\n",
              "      <td>0.039156</td>\n",
              "      <td>0.001508</td>\n",
              "      <td>-0.040664</td>\n",
              "      <td>1498.922981</td>\n",
              "      <td>8.635870e-12</td>\n",
              "      <td>0</td>\n",
              "    </tr>\n",
              "    <tr>\n",
              "      <th>295095</th>\n",
              "      <td>4.918069</td>\n",
              "      <td>-2.004074</td>\n",
              "      <td>7.639130</td>\n",
              "      <td>-5.635055</td>\n",
              "      <td>7.765060</td>\n",
              "      <td>0.840251</td>\n",
              "      <td>-8.605311</td>\n",
              "      <td>1478.385920</td>\n",
              "      <td>-1.420902e+01</td>\n",
              "      <td>1</td>\n",
              "    </tr>\n",
              "  </tbody>\n",
              "</table>\n",
              "</div>\n",
              "      <button class=\"colab-df-convert\" onclick=\"convertToInteractive('df-4bac5e3c-b706-430b-8e29-0d467b90a3c3')\"\n",
              "              title=\"Convert this dataframe to an interactive table.\"\n",
              "              style=\"display:none;\">\n",
              "        \n",
              "  <svg xmlns=\"http://www.w3.org/2000/svg\" height=\"24px\"viewBox=\"0 0 24 24\"\n",
              "       width=\"24px\">\n",
              "    <path d=\"M0 0h24v24H0V0z\" fill=\"none\"/>\n",
              "    <path d=\"M18.56 5.44l.94 2.06.94-2.06 2.06-.94-2.06-.94-.94-2.06-.94 2.06-2.06.94zm-11 1L8.5 8.5l.94-2.06 2.06-.94-2.06-.94L8.5 2.5l-.94 2.06-2.06.94zm10 10l.94 2.06.94-2.06 2.06-.94-2.06-.94-.94-2.06-.94 2.06-2.06.94z\"/><path d=\"M17.41 7.96l-1.37-1.37c-.4-.4-.92-.59-1.43-.59-.52 0-1.04.2-1.43.59L10.3 9.45l-7.72 7.72c-.78.78-.78 2.05 0 2.83L4 21.41c.39.39.9.59 1.41.59.51 0 1.02-.2 1.41-.59l7.78-7.78 2.81-2.81c.8-.78.8-2.07 0-2.86zM5.41 20L4 18.59l7.72-7.72 1.47 1.35L5.41 20z\"/>\n",
              "  </svg>\n",
              "      </button>\n",
              "      \n",
              "  <style>\n",
              "    .colab-df-container {\n",
              "      display:flex;\n",
              "      flex-wrap:wrap;\n",
              "      gap: 12px;\n",
              "    }\n",
              "\n",
              "    .colab-df-convert {\n",
              "      background-color: #E8F0FE;\n",
              "      border: none;\n",
              "      border-radius: 50%;\n",
              "      cursor: pointer;\n",
              "      display: none;\n",
              "      fill: #1967D2;\n",
              "      height: 32px;\n",
              "      padding: 0 0 0 0;\n",
              "      width: 32px;\n",
              "    }\n",
              "\n",
              "    .colab-df-convert:hover {\n",
              "      background-color: #E2EBFA;\n",
              "      box-shadow: 0px 1px 2px rgba(60, 64, 67, 0.3), 0px 1px 3px 1px rgba(60, 64, 67, 0.15);\n",
              "      fill: #174EA6;\n",
              "    }\n",
              "\n",
              "    [theme=dark] .colab-df-convert {\n",
              "      background-color: #3B4455;\n",
              "      fill: #D2E3FC;\n",
              "    }\n",
              "\n",
              "    [theme=dark] .colab-df-convert:hover {\n",
              "      background-color: #434B5C;\n",
              "      box-shadow: 0px 1px 3px 1px rgba(0, 0, 0, 0.15);\n",
              "      filter: drop-shadow(0px 1px 2px rgba(0, 0, 0, 0.3));\n",
              "      fill: #FFFFFF;\n",
              "    }\n",
              "  </style>\n",
              "\n",
              "      <script>\n",
              "        const buttonEl =\n",
              "          document.querySelector('#df-4bac5e3c-b706-430b-8e29-0d467b90a3c3 button.colab-df-convert');\n",
              "        buttonEl.style.display =\n",
              "          google.colab.kernel.accessAllowed ? 'block' : 'none';\n",
              "\n",
              "        async function convertToInteractive(key) {\n",
              "          const element = document.querySelector('#df-4bac5e3c-b706-430b-8e29-0d467b90a3c3');\n",
              "          const dataTable =\n",
              "            await google.colab.kernel.invokeFunction('convertToInteractive',\n",
              "                                                     [key], {});\n",
              "          if (!dataTable) return;\n",
              "\n",
              "          const docLinkHtml = 'Like what you see? Visit the ' +\n",
              "            '<a target=\"_blank\" href=https://colab.research.google.com/notebooks/data_table.ipynb>data table notebook</a>'\n",
              "            + ' to learn more about interactive tables.';\n",
              "          element.innerHTML = '';\n",
              "          dataTable['output_type'] = 'display_data';\n",
              "          await google.colab.output.renderOutput(dataTable, element);\n",
              "          const docLink = document.createElement('div');\n",
              "          docLink.innerHTML = docLinkHtml;\n",
              "          element.appendChild(docLink);\n",
              "        }\n",
              "      </script>\n",
              "    </div>\n",
              "  </div>\n",
              "  "
            ]
          },
          "metadata": {},
          "execution_count": 5
        }
      ],
      "source": [
        "data.sample(11)"
      ]
    },
    {
      "cell_type": "code",
      "execution_count": null,
      "metadata": {
        "colab": {
          "base_uri": "https://localhost:8080/"
        },
        "id": "1Psw7aToQ0LJ",
        "outputId": "2856423f-2f49-4543-a344-92aa2803c4c1"
      },
      "outputs": [
        {
          "output_type": "execute_result",
          "data": {
            "text/plain": [
              "(300012, 10)"
            ]
          },
          "metadata": {},
          "execution_count": 7
        }
      ],
      "source": [
        "data.shape"
      ]
    },
    {
      "cell_type": "code",
      "execution_count": null,
      "metadata": {
        "colab": {
          "base_uri": "https://localhost:8080/"
        },
        "id": "2TmeeQDTQ0bS",
        "outputId": "dd5d08aa-7875-44d0-f320-74f778a685b9"
      },
      "outputs": [
        {
          "output_type": "execute_result",
          "data": {
            "text/plain": [
              "1    100004\n",
              "2    100004\n",
              "0    100004\n",
              "Name: Target, dtype: int64"
            ]
          },
          "metadata": {},
          "execution_count": 8
        }
      ],
      "source": [
        "data['Target'].value_counts()"
      ]
    },
    {
      "cell_type": "code",
      "execution_count": null,
      "metadata": {
        "colab": {
          "base_uri": "https://localhost:8080/",
          "height": 351
        },
        "id": "JCeoQafHQ0er",
        "outputId": "b27b3148-4c92-48b1-8d8a-79ab3274e8a9"
      },
      "outputs": [
        {
          "output_type": "stream",
          "name": "stderr",
          "text": [
            "/usr/local/lib/python3.8/dist-packages/seaborn/_decorators.py:36: FutureWarning: Pass the following variable as a keyword arg: x. From version 0.12, the only valid positional argument will be `data`, and passing other arguments without an explicit keyword will result in an error or misinterpretation.\n",
            "  warnings.warn(\n"
          ]
        },
        {
          "output_type": "execute_result",
          "data": {
            "text/plain": [
              "<matplotlib.axes._subplots.AxesSubplot at 0x7f6508ce3d90>"
            ]
          },
          "metadata": {},
          "execution_count": 9
        },
        {
          "output_type": "display_data",
          "data": {
            "text/plain": [
              "<Figure size 432x288 with 1 Axes>"
            ],
            "image/png": "[encoded data removed]"
          },
          "metadata": {
            "needs_background": "light"
          }
        }
      ],
      "source": [
        "sns.countplot(data['Target'])"
      ]
    },
    {
      "cell_type": "code",
      "execution_count": null,
      "metadata": {
        "colab": {
          "base_uri": "https://localhost:8080/"
        },
        "id": "1VaBwGrcQ0h0",
        "outputId": "eddda5b3-6ff6-4843-d6dd-f61c1651c0c1"
      },
      "outputs": [
        {
          "output_type": "execute_result",
          "data": {
            "text/plain": [
              "False"
            ]
          },
          "metadata": {},
          "execution_count": 10
        }
      ],
      "source": [
        "data.isnull().values.any()"
      ]
    },
    {
      "cell_type": "code",
      "execution_count": null,
      "metadata": {
        "colab": {
          "base_uri": "https://localhost:8080/",
          "height": 300
        },
        "id": "uaVjE58HQ0no",
        "outputId": "f44fbb86-f256-435a-81e5-4b86ec5da9b9"
      },
      "outputs": [
        {
          "output_type": "execute_result",
          "data": {
            "text/plain": [
              "               Time            Isa            Isb            Isc  \\\n",
              "count  3.000120e+05  300012.000000  300012.000000  300012.000000   \n",
              "mean   2.499894e+00       0.001367       0.006571      -0.007938   \n",
              "std    1.443436e+00       6.737819       7.229524       7.596341   \n",
              "min    1.210510e-07     -27.658529     -26.437518     -33.326736   \n",
              "25%    1.249857e+00      -4.295934      -4.240448      -4.173870   \n",
              "50%    2.499894e+00       0.003345      -0.016504       0.001498   \n",
              "75%    3.749932e+00       4.351676       4.240448       4.161317   \n",
              "max    4.999969e+00      27.492168      26.050281      33.508201   \n",
              "\n",
              "                 Ira            Irb            Irc         Speed  \\\n",
              "count  300012.000000  300012.000000  300012.000000  3.000120e+05   \n",
              "mean       -0.103099       0.018058       0.085041  1.459362e+03   \n",
              "std         6.631629       6.558251       6.562115  1.827836e+02   \n",
              "min       -31.333782     -30.540275     -29.323605  2.939080e-17   \n",
              "25%        -4.183249      -3.972068      -3.882077  1.480223e+03   \n",
              "50%        -0.001571       0.000495       0.001304  1.498923e+03   \n",
              "75%         3.906174       4.074376       4.098265  1.498923e+03   \n",
              "max        29.132459      29.611167      31.474683  1.517157e+03   \n",
              "\n",
              "             Torque         Target  \n",
              "count  3.000120e+05  300012.000000  \n",
              "mean   7.326394e-01       1.000000  \n",
              "std    1.748545e+01       0.816498  \n",
              "min   -3.481414e+01       0.000000  \n",
              "25%   -5.251915e+00       0.000000  \n",
              "50%    8.103355e-12       1.000000  \n",
              "75%    1.081576e+01       2.000000  \n",
              "max    7.024411e+01       2.000000  "
            ],
            "text/html": [
              "\n",
              "  <div id=\"df-dad39831-ad22-4121-b273-24f48963ee3a\">\n",
              "    <div class=\"colab-df-container\">\n",
              "      <div>\n",
              "<style scoped>\n",
              "    .dataframe tbody tr th:only-of-type {\n",
              "        vertical-align: middle;\n",
              "    }\n",
              "\n",
              "    .dataframe tbody tr th {\n",
              "        vertical-align: top;\n",
              "    }\n",
              "\n",
              "    .dataframe thead th {\n",
              "        text-align: right;\n",
              "    }\n",
              "</style>\n",
              "<table border=\"1\" class=\"dataframe\">\n",
              "  <thead>\n",
              "    <tr style=\"text-align: right;\">\n",
              "      <th></th>\n",
              "      <th>Time</th>\n",
              "      <th>Isa</th>\n",
              "      <th>Isb</th>\n",
              "      <th>Isc</th>\n",
              "      <th>Ira</th>\n",
              "      <th>Irb</th>\n",
              "      <th>Irc</th>\n",
              "      <th>Speed</th>\n",
              "      <th>Torque</th>\n",
              "      <th>Target</th>\n",
              "    </tr>\n",
              "  </thead>\n",
              "  <tbody>\n",
              "    <tr>\n",
              "      <th>count</th>\n",
              "      <td>3.000120e+05</td>\n",
              "      <td>300012.000000</td>\n",
              "      <td>300012.000000</td>\n",
              "      <td>300012.000000</td>\n",
              "      <td>300012.000000</td>\n",
              "      <td>300012.000000</td>\n",
              "      <td>300012.000000</td>\n",
              "      <td>3.000120e+05</td>\n",
              "      <td>3.000120e+05</td>\n",
              "      <td>300012.000000</td>\n",
              "    </tr>\n",
              "    <tr>\n",
              "      <th>mean</th>\n",
              "      <td>2.499894e+00</td>\n",
              "      <td>0.001367</td>\n",
              "      <td>0.006571</td>\n",
              "      <td>-0.007938</td>\n",
              "      <td>-0.103099</td>\n",
              "      <td>0.018058</td>\n",
              "      <td>0.085041</td>\n",
              "      <td>1.459362e+03</td>\n",
              "      <td>7.326394e-01</td>\n",
              "      <td>1.000000</td>\n",
              "    </tr>\n",
              "    <tr>\n",
              "      <th>std</th>\n",
              "      <td>1.443436e+00</td>\n",
              "      <td>6.737819</td>\n",
              "      <td>7.229524</td>\n",
              "      <td>7.596341</td>\n",
              "      <td>6.631629</td>\n",
              "      <td>6.558251</td>\n",
              "      <td>6.562115</td>\n",
              "      <td>1.827836e+02</td>\n",
              "      <td>1.748545e+01</td>\n",
              "      <td>0.816498</td>\n",
              "    </tr>\n",
              "    <tr>\n",
              "      <th>min</th>\n",
              "      <td>1.210510e-07</td>\n",
              "      <td>-27.658529</td>\n",
              "      <td>-26.437518</td>\n",
              "      <td>-33.326736</td>\n",
              "      <td>-31.333782</td>\n",
              "      <td>-30.540275</td>\n",
              "      <td>-29.323605</td>\n",
              "      <td>2.939080e-17</td>\n",
              "      <td>-3.481414e+01</td>\n",
              "      <td>0.000000</td>\n",
              "    </tr>\n",
              "    <tr>\n",
              "      <th>25%</th>\n",
              "      <td>1.249857e+00</td>\n",
              "      <td>-4.295934</td>\n",
              "      <td>-4.240448</td>\n",
              "      <td>-4.173870</td>\n",
              "      <td>-4.183249</td>\n",
              "      <td>-3.972068</td>\n",
              "      <td>-3.882077</td>\n",
              "      <td>1.480223e+03</td>\n",
              "      <td>-5.251915e+00</td>\n",
              "      <td>0.000000</td>\n",
              "    </tr>\n",
              "    <tr>\n",
              "      <th>50%</th>\n",
              "      <td>2.499894e+00</td>\n",
              "      <td>0.003345</td>\n",
              "      <td>-0.016504</td>\n",
              "      <td>0.001498</td>\n",
              "      <td>-0.001571</td>\n",
              "      <td>0.000495</td>\n",
              "      <td>0.001304</td>\n",
              "      <td>1.498923e+03</td>\n",
              "      <td>8.103355e-12</td>\n",
              "      <td>1.000000</td>\n",
              "    </tr>\n",
              "    <tr>\n",
              "      <th>75%</th>\n",
              "      <td>3.749932e+00</td>\n",
              "      <td>4.351676</td>\n",
              "      <td>4.240448</td>\n",
              "      <td>4.161317</td>\n",
              "      <td>3.906174</td>\n",
              "      <td>4.074376</td>\n",
              "      <td>4.098265</td>\n",
              "      <td>1.498923e+03</td>\n",
              "      <td>1.081576e+01</td>\n",
              "      <td>2.000000</td>\n",
              "    </tr>\n",
              "    <tr>\n",
              "      <th>max</th>\n",
              "      <td>4.999969e+00</td>\n",
              "      <td>27.492168</td>\n",
              "      <td>26.050281</td>\n",
              "      <td>33.508201</td>\n",
              "      <td>29.132459</td>\n",
              "      <td>29.611167</td>\n",
              "      <td>31.474683</td>\n",
              "      <td>1.517157e+03</td>\n",
              "      <td>7.024411e+01</td>\n",
              "      <td>2.000000</td>\n",
              "    </tr>\n",
              "  </tbody>\n",
              "</table>\n",
              "</div>\n",
              "      <button class=\"colab-df-convert\" onclick=\"convertToInteractive('df-dad39831-ad22-4121-b273-24f48963ee3a')\"\n",
              "              title=\"Convert this dataframe to an interactive table.\"\n",
              "              style=\"display:none;\">\n",
              "        \n",
              "  <svg xmlns=\"http://www.w3.org/2000/svg\" height=\"24px\"viewBox=\"0 0 24 24\"\n",
              "       width=\"24px\">\n",
              "    <path d=\"M0 0h24v24H0V0z\" fill=\"none\"/>\n",
              "    <path d=\"M18.56 5.44l.94 2.06.94-2.06 2.06-.94-2.06-.94-.94-2.06-.94 2.06-2.06.94zm-11 1L8.5 8.5l.94-2.06 2.06-.94-2.06-.94L8.5 2.5l-.94 2.06-2.06.94zm10 10l.94 2.06.94-2.06 2.06-.94-2.06-.94-.94-2.06-.94 2.06-2.06.94z\"/><path d=\"M17.41 7.96l-1.37-1.37c-.4-.4-.92-.59-1.43-.59-.52 0-1.04.2-1.43.59L10.3 9.45l-7.72 7.72c-.78.78-.78 2.05 0 2.83L4 21.41c.39.39.9.59 1.41.59.51 0 1.02-.2 1.41-.59l7.78-7.78 2.81-2.81c.8-.78.8-2.07 0-2.86zM5.41 20L4 18.59l7.72-7.72 1.47 1.35L5.41 20z\"/>\n",
              "  </svg>\n",
              "      </button>\n",
              "      \n",
              "  <style>\n",
              "    .colab-df-container {\n",
              "      display:flex;\n",
              "      flex-wrap:wrap;\n",
              "      gap: 12px;\n",
              "    }\n",
              "\n",
              "    .colab-df-convert {\n",
              "      background-color: #E8F0FE;\n",
              "      border: none;\n",
              "      border-radius: 50%;\n",
              "      cursor: pointer;\n",
              "      display: none;\n",
              "      fill: #1967D2;\n",
              "      height: 32px;\n",
              "      padding: 0 0 0 0;\n",
              "      width: 32px;\n",
              "    }\n",
              "\n",
              "    .colab-df-convert:hover {\n",
              "      background-color: #E2EBFA;\n",
              "      box-shadow: 0px 1px 2px rgba(60, 64, 67, 0.3), 0px 1px 3px 1px rgba(60, 64, 67, 0.15);\n",
              "      fill: #174EA6;\n",
              "    }\n",
              "\n",
              "    [theme=dark] .colab-df-convert {\n",
              "      background-color: #3B4455;\n",
              "      fill: #D2E3FC;\n",
              "    }\n",
              "\n",
              "    [theme=dark] .colab-df-convert:hover {\n",
              "      background-color: #434B5C;\n",
              "      box-shadow: 0px 1px 3px 1px rgba(0, 0, 0, 0.15);\n",
              "      filter: drop-shadow(0px 1px 2px rgba(0, 0, 0, 0.3));\n",
              "      fill: #FFFFFF;\n",
              "    }\n",
              "  </style>\n",
              "\n",
              "      <script>\n",
              "        const buttonEl =\n",
              "          document.querySelector('#df-dad39831-ad22-4121-b273-24f48963ee3a button.colab-df-convert');\n",
              "        buttonEl.style.display =\n",
              "          google.colab.kernel.accessAllowed ? 'block' : 'none';\n",
              "\n",
              "        async function convertToInteractive(key) {\n",
              "          const element = document.querySelector('#df-dad39831-ad22-4121-b273-24f48963ee3a');\n",
              "          const dataTable =\n",
              "            await google.colab.kernel.invokeFunction('convertToInteractive',\n",
              "                                                     [key], {});\n",
              "          if (!dataTable) return;\n",
              "\n",
              "          const docLinkHtml = 'Like what you see? Visit the ' +\n",
              "            '<a target=\"_blank\" href=https://colab.research.google.com/notebooks/data_table.ipynb>data table notebook</a>'\n",
              "            + ' to learn more about interactive tables.';\n",
              "          element.innerHTML = '';\n",
              "          dataTable['output_type'] = 'display_data';\n",
              "          await google.colab.output.renderOutput(dataTable, element);\n",
              "          const docLink = document.createElement('div');\n",
              "          docLink.innerHTML = docLinkHtml;\n",
              "          element.appendChild(docLink);\n",
              "        }\n",
              "      </script>\n",
              "    </div>\n",
              "  </div>\n",
              "  "
            ]
          },
          "metadata": {},
          "execution_count": 11
        }
      ],
      "source": [
        "data.describe()"
      ]
    },
    {
      "cell_type": "code",
      "execution_count": null,
      "metadata": {
        "colab": {
          "base_uri": "https://localhost:8080/",
          "height": 612
        },
        "id": "z0sPx4iTQ0qw",
        "outputId": "67039491-15d3-4f19-eca0-45579d4519f5"
      },
      "outputs": [
        {
          "output_type": "execute_result",
          "data": {
            "text/plain": [
              "<matplotlib.axes._subplots.AxesSubplot at 0x7f6aeeb92940>"
            ]
          },
          "metadata": {},
          "execution_count": 11
        },
        {
          "output_type": "display_data",
          "data": {
            "text/plain": [
              "<Figure size 1080x720 with 3 Axes>"
            ],
            "image/png": "[encoded data removed]"
          },
          "metadata": {
            "needs_background": "light"
          }
        }
      ],
      "source": [
        "#correlation matrix\n",
        "corr = data.corr()\n",
        "plt.subplots(figsize=(15,10))\n",
        "sns.heatmap(corr, xticklabels=corr.columns, yticklabels=corr.columns,\n",
        "annot=True, cmap=sns.diverging_palette(240, 10, n=9))\n",
        "sns.heatmap(corr, xticklabels=corr.columns,\n",
        "yticklabels=corr.columns,\n",
        "annot=True,\n",
        "cmap=sns.diverging_palette(240, 10, n=9))"
      ]
    },
    {
      "cell_type": "code",
      "execution_count": null,
      "metadata": {
        "id": "uhIY2RmOQ0t4"
      },
      "outputs": [],
      "source": [
        "x = data.iloc[:,:-1]"
      ]
    },
    {
      "cell_type": "code",
      "execution_count": null,
      "metadata": {
        "colab": {
          "base_uri": "https://localhost:8080/",
          "height": 424
        },
        "id": "9V7c87ObQ0xD",
        "outputId": "feb4c851-7c6d-457c-ae15-9c3db6d6d04a"
      },
      "outputs": [
        {
          "output_type": "execute_result",
          "data": {
            "text/plain": [
              "                Time           Isa       Isb       Isc           Ira  \\\n",
              "0       1.210510e-07  8.139850e-08 -0.000746  0.000746 -4.584210e-08   \n",
              "1       1.210510e-07  8.085220e-08 -0.000746  0.000746 -4.532700e-08   \n",
              "2       1.210550e-07  4.916830e-08 -0.000746  0.000746 -1.545280e-08   \n",
              "3       2.421030e-07  3.255910e-07 -0.001493  0.001493 -1.833670e-07   \n",
              "4       2.421030e-07  3.234060e-07 -0.001493  0.001493 -1.813060e-07   \n",
              "...              ...           ...       ...       ...           ...   \n",
              "300007  4.999919e+00 -1.147172e+01  3.708418  7.763305  1.321245e+01   \n",
              "300008  4.999919e+00  2.505272e+00 -1.426295 -1.078977 -9.853263e-03   \n",
              "300009  4.999969e+00 -1.140778e+01  3.347127  8.060657 -2.901545e+00   \n",
              "300010  4.999969e+00 -1.132840e+01  3.287408  8.040992  1.311437e+01   \n",
              "300011  4.999969e+00  2.508112e+00 -1.393615 -1.114498 -9.145038e-03   \n",
              "\n",
              "              Irb       Irc         Speed        Torque  \n",
              "0        0.000704 -0.000704  8.718750e-17  7.112230e-12  \n",
              "1        0.000704 -0.000704  8.620780e-17  7.032320e-12  \n",
              "2        0.000704 -0.000704  2.939080e-17  2.397450e-12  \n",
              "3        0.001408 -0.001407  1.394990e-15  5.689750e-11  \n",
              "4        0.001408 -0.001407  1.379320e-15  5.625820e-11  \n",
              "...           ...       ...           ...           ...  \n",
              "300007  -5.866198 -7.346256  1.476197e+03  4.922243e+00  \n",
              "300008  -0.034083  0.043936  1.498923e+03  7.489790e-12  \n",
              "300009  12.676500 -9.774955  1.476485e+03  5.269457e+00  \n",
              "300010  -5.449751 -7.664618  1.476299e+03  5.208763e+00  \n",
              "300011  -0.034566  0.043711  1.498923e+03  7.459260e-12  \n",
              "\n",
              "[300012 rows x 9 columns]"
            ],
            "text/html": [
              "\n",
              "  <div id=\"df-ff7523ff-d20a-4928-87eb-18a9d240e63c\">\n",
              "    <div class=\"colab-df-container\">\n",
              "      <div>\n",
              "<style scoped>\n",
              "    .dataframe tbody tr th:only-of-type {\n",
              "        vertical-align: middle;\n",
              "    }\n",
              "\n",
              "    .dataframe tbody tr th {\n",
              "        vertical-align: top;\n",
              "    }\n",
              "\n",
              "    .dataframe thead th {\n",
              "        text-align: right;\n",
              "    }\n",
              "</style>\n",
              "<table border=\"1\" class=\"dataframe\">\n",
              "  <thead>\n",
              "    <tr style=\"text-align: right;\">\n",
              "      <th></th>\n",
              "      <th>Time</th>\n",
              "      <th>Isa</th>\n",
              "      <th>Isb</th>\n",
              "      <th>Isc</th>\n",
              "      <th>Ira</th>\n",
              "      <th>Irb</th>\n",
              "      <th>Irc</th>\n",
              "      <th>Speed</th>\n",
              "      <th>Torque</th>\n",
              "    </tr>\n",
              "  </thead>\n",
              "  <tbody>\n",
              "    <tr>\n",
              "      <th>0</th>\n",
              "      <td>1.210510e-07</td>\n",
              "      <td>8.139850e-08</td>\n",
              "      <td>-0.000746</td>\n",
              "      <td>0.000746</td>\n",
              "      <td>-4.584210e-08</td>\n",
              "      <td>0.000704</td>\n",
              "      <td>-0.000704</td>\n",
              "      <td>8.718750e-17</td>\n",
              "      <td>7.112230e-12</td>\n",
              "    </tr>\n",
              "    <tr>\n",
              "      <th>1</th>\n",
              "      <td>1.210510e-07</td>\n",
              "      <td>8.085220e-08</td>\n",
              "      <td>-0.000746</td>\n",
              "      <td>0.000746</td>\n",
              "      <td>-4.532700e-08</td>\n",
              "      <td>0.000704</td>\n",
              "      <td>-0.000704</td>\n",
              "      <td>8.620780e-17</td>\n",
              "      <td>7.032320e-12</td>\n",
              "    </tr>\n",
              "    <tr>\n",
              "      <th>2</th>\n",
              "      <td>1.210550e-07</td>\n",
              "      <td>4.916830e-08</td>\n",
              "      <td>-0.000746</td>\n",
              "      <td>0.000746</td>\n",
              "      <td>-1.545280e-08</td>\n",
              "      <td>0.000704</td>\n",
              "      <td>-0.000704</td>\n",
              "      <td>2.939080e-17</td>\n",
              "      <td>2.397450e-12</td>\n",
              "    </tr>\n",
              "    <tr>\n",
              "      <th>3</th>\n",
              "      <td>2.421030e-07</td>\n",
              "      <td>3.255910e-07</td>\n",
              "      <td>-0.001493</td>\n",
              "      <td>0.001493</td>\n",
              "      <td>-1.833670e-07</td>\n",
              "      <td>0.001408</td>\n",
              "      <td>-0.001407</td>\n",
              "      <td>1.394990e-15</td>\n",
              "      <td>5.689750e-11</td>\n",
              "    </tr>\n",
              "    <tr>\n",
              "      <th>4</th>\n",
              "      <td>2.421030e-07</td>\n",
              "      <td>3.234060e-07</td>\n",
              "      <td>-0.001493</td>\n",
              "      <td>0.001493</td>\n",
              "      <td>-1.813060e-07</td>\n",
              "      <td>0.001408</td>\n",
              "      <td>-0.001407</td>\n",
              "      <td>1.379320e-15</td>\n",
              "      <td>5.625820e-11</td>\n",
              "    </tr>\n",
              "    <tr>\n",
              "      <th>...</th>\n",
              "      <td>...</td>\n",
              "      <td>...</td>\n",
              "      <td>...</td>\n",
              "      <td>...</td>\n",
              "      <td>...</td>\n",
              "      <td>...</td>\n",
              "      <td>...</td>\n",
              "      <td>...</td>\n",
              "      <td>...</td>\n",
              "    </tr>\n",
              "    <tr>\n",
              "      <th>300007</th>\n",
              "      <td>4.999919e+00</td>\n",
              "      <td>-1.147172e+01</td>\n",
              "      <td>3.708418</td>\n",
              "      <td>7.763305</td>\n",
              "      <td>1.321245e+01</td>\n",
              "      <td>-5.866198</td>\n",
              "      <td>-7.346256</td>\n",
              "      <td>1.476197e+03</td>\n",
              "      <td>4.922243e+00</td>\n",
              "    </tr>\n",
              "    <tr>\n",
              "      <th>300008</th>\n",
              "      <td>4.999919e+00</td>\n",
              "      <td>2.505272e+00</td>\n",
              "      <td>-1.426295</td>\n",
              "      <td>-1.078977</td>\n",
              "      <td>-9.853263e-03</td>\n",
              "      <td>-0.034083</td>\n",
              "      <td>0.043936</td>\n",
              "      <td>1.498923e+03</td>\n",
              "      <td>7.489790e-12</td>\n",
              "    </tr>\n",
              "    <tr>\n",
              "      <th>300009</th>\n",
              "      <td>4.999969e+00</td>\n",
              "      <td>-1.140778e+01</td>\n",
              "      <td>3.347127</td>\n",
              "      <td>8.060657</td>\n",
              "      <td>-2.901545e+00</td>\n",
              "      <td>12.676500</td>\n",
              "      <td>-9.774955</td>\n",
              "      <td>1.476485e+03</td>\n",
              "      <td>5.269457e+00</td>\n",
              "    </tr>\n",
              "    <tr>\n",
              "      <th>300010</th>\n",
              "      <td>4.999969e+00</td>\n",
              "      <td>-1.132840e+01</td>\n",
              "      <td>3.287408</td>\n",
              "      <td>8.040992</td>\n",
              "      <td>1.311437e+01</td>\n",
              "      <td>-5.449751</td>\n",
              "      <td>-7.664618</td>\n",
              "      <td>1.476299e+03</td>\n",
              "      <td>5.208763e+00</td>\n",
              "    </tr>\n",
              "    <tr>\n",
              "      <th>300011</th>\n",
              "      <td>4.999969e+00</td>\n",
              "      <td>2.508112e+00</td>\n",
              "      <td>-1.393615</td>\n",
              "      <td>-1.114498</td>\n",
              "      <td>-9.145038e-03</td>\n",
              "      <td>-0.034566</td>\n",
              "      <td>0.043711</td>\n",
              "      <td>1.498923e+03</td>\n",
              "      <td>7.459260e-12</td>\n",
              "    </tr>\n",
              "  </tbody>\n",
              "</table>\n",
              "<p>300012 rows × 9 columns</p>\n",
              "</div>\n",
              "      <button class=\"colab-df-convert\" onclick=\"convertToInteractive('df-ff7523ff-d20a-4928-87eb-18a9d240e63c')\"\n",
              "              title=\"Convert this dataframe to an interactive table.\"\n",
              "              style=\"display:none;\">\n",
              "        \n",
              "  <svg xmlns=\"http://www.w3.org/2000/svg\" height=\"24px\"viewBox=\"0 0 24 24\"\n",
              "       width=\"24px\">\n",
              "    <path d=\"M0 0h24v24H0V0z\" fill=\"none\"/>\n",
              "    <path d=\"M18.56 5.44l.94 2.06.94-2.06 2.06-.94-2.06-.94-.94-2.06-.94 2.06-2.06.94zm-11 1L8.5 8.5l.94-2.06 2.06-.94-2.06-.94L8.5 2.5l-.94 2.06-2.06.94zm10 10l.94 2.06.94-2.06 2.06-.94-2.06-.94-.94-2.06-.94 2.06-2.06.94z\"/><path d=\"M17.41 7.96l-1.37-1.37c-.4-.4-.92-.59-1.43-.59-.52 0-1.04.2-1.43.59L10.3 9.45l-7.72 7.72c-.78.78-.78 2.05 0 2.83L4 21.41c.39.39.9.59 1.41.59.51 0 1.02-.2 1.41-.59l7.78-7.78 2.81-2.81c.8-.78.8-2.07 0-2.86zM5.41 20L4 18.59l7.72-7.72 1.47 1.35L5.41 20z\"/>\n",
              "  </svg>\n",
              "      </button>\n",
              "      \n",
              "  <style>\n",
              "    .colab-df-container {\n",
              "      display:flex;\n",
              "      flex-wrap:wrap;\n",
              "      gap: 12px;\n",
              "    }\n",
              "\n",
              "    .colab-df-convert {\n",
              "      background-color: #E8F0FE;\n",
              "      border: none;\n",
              "      border-radius: 50%;\n",
              "      cursor: pointer;\n",
              "      display: none;\n",
              "      fill: #1967D2;\n",
              "      height: 32px;\n",
              "      padding: 0 0 0 0;\n",
              "      width: 32px;\n",
              "    }\n",
              "\n",
              "    .colab-df-convert:hover {\n",
              "      background-color: #E2EBFA;\n",
              "      box-shadow: 0px 1px 2px rgba(60, 64, 67, 0.3), 0px 1px 3px 1px rgba(60, 64, 67, 0.15);\n",
              "      fill: #174EA6;\n",
              "    }\n",
              "\n",
              "    [theme=dark] .colab-df-convert {\n",
              "      background-color: #3B4455;\n",
              "      fill: #D2E3FC;\n",
              "    }\n",
              "\n",
              "    [theme=dark] .colab-df-convert:hover {\n",
              "      background-color: #434B5C;\n",
              "      box-shadow: 0px 1px 3px 1px rgba(0, 0, 0, 0.15);\n",
              "      filter: drop-shadow(0px 1px 2px rgba(0, 0, 0, 0.3));\n",
              "      fill: #FFFFFF;\n",
              "    }\n",
              "  </style>\n",
              "\n",
              "      <script>\n",
              "        const buttonEl =\n",
              "          document.querySelector('#df-ff7523ff-d20a-4928-87eb-18a9d240e63c button.colab-df-convert');\n",
              "        buttonEl.style.display =\n",
              "          google.colab.kernel.accessAllowed ? 'block' : 'none';\n",
              "\n",
              "        async function convertToInteractive(key) {\n",
              "          const element = document.querySelector('#df-ff7523ff-d20a-4928-87eb-18a9d240e63c');\n",
              "          const dataTable =\n",
              "            await google.colab.kernel.invokeFunction('convertToInteractive',\n",
              "                                                     [key], {});\n",
              "          if (!dataTable) return;\n",
              "\n",
              "          const docLinkHtml = 'Like what you see? Visit the ' +\n",
              "            '<a target=\"_blank\" href=https://colab.research.google.com/notebooks/data_table.ipynb>data table notebook</a>'\n",
              "            + ' to learn more about interactive tables.';\n",
              "          element.innerHTML = '';\n",
              "          dataTable['output_type'] = 'display_data';\n",
              "          await google.colab.output.renderOutput(dataTable, element);\n",
              "          const docLink = document.createElement('div');\n",
              "          docLink.innerHTML = docLinkHtml;\n",
              "          element.appendChild(docLink);\n",
              "        }\n",
              "      </script>\n",
              "    </div>\n",
              "  </div>\n",
              "  "
            ]
          },
          "metadata": {},
          "execution_count": 13
        }
      ],
      "source": [
        "x"
      ]
    },
    {
      "cell_type": "code",
      "execution_count": null,
      "metadata": {
        "id": "eG5YL8xlQ00J"
      },
      "outputs": [],
      "source": [
        "y = data.iloc[:,9]"
      ]
    },
    {
      "cell_type": "code",
      "execution_count": null,
      "metadata": {
        "colab": {
          "base_uri": "https://localhost:8080/"
        },
        "id": "t6rUlf-kQ03L",
        "outputId": "d5295c44-c5f4-4f0e-8955-6b481c46b0a6"
      },
      "outputs": [
        {
          "output_type": "execute_result",
          "data": {
            "text/plain": [
              "0         1\n",
              "1         2\n",
              "2         0\n",
              "3         1\n",
              "4         2\n",
              "         ..\n",
              "300007    2\n",
              "300008    0\n",
              "300009    1\n",
              "300010    2\n",
              "300011    0\n",
              "Name: Target, Length: 300012, dtype: int64"
            ]
          },
          "metadata": {},
          "execution_count": 16
        }
      ],
      "source": [
        "y"
      ]
    },
    {
      "cell_type": "code",
      "execution_count": null,
      "metadata": {
        "id": "9nUO7n9GQ06D"
      },
      "outputs": [],
      "source": [
        "from sklearn.model_selection import train_test_split"
      ]
    },
    {
      "cell_type": "code",
      "execution_count": null,
      "metadata": {
        "id": "Rof5shX1Q09D"
      },
      "outputs": [],
      "source": [
        "xtrain,xtest,ytrain,ytest = train_test_split(x,y,test_size=0.25 , random_state=10)"
      ]
    },
    {
      "cell_type": "code",
      "execution_count": null,
      "metadata": {
        "colab": {
          "base_uri": "https://localhost:8080/",
          "height": 424
        },
        "id": "QxKOe8qpQ1AD",
        "outputId": "139630b9-c615-4dbf-d92e-5ce98d6f0909"
      },
      "outputs": [
        {
          "output_type": "execute_result",
          "data": {
            "text/plain": [
              "            Time        Isa        Isb        Isc        Ira        Irb  \\\n",
              "53223   0.886869  -8.121458   3.745556   4.375903  -6.568722   2.024042   \n",
              "280052  4.667319  -1.568801   2.484870  -0.916069   0.037696   0.004147   \n",
              "139243  2.320519  -8.308199  -1.502413   9.810612   9.189892 -11.179561   \n",
              "251582  4.192819  -1.693944  -0.760934   2.454878  -0.035472   0.043247   \n",
              "267268  4.454269  -4.901083 -11.169165  16.070247  -7.812006  13.210876   \n",
              "...          ...        ...        ...        ...        ...        ...   \n",
              "299741  4.995469   0.233191  -2.283774   2.050583  -0.046069   0.024694   \n",
              "9372    0.156019   2.900769 -19.986235  17.085466   2.461068 -17.898530   \n",
              "105595  1.759719 -11.806425   5.310527   6.495898  13.223988  -8.493969   \n",
              "93553   1.559019  -9.985155   9.135854   0.849300  12.427000  -8.758200   \n",
              "236669  3.944269   0.704395   1.737137  -2.441532   0.045352  -0.029881   \n",
              "\n",
              "              Irc        Speed        Torque  \n",
              "53223    4.544680  1490.064445 -3.227787e+01  \n",
              "280052  -0.041843  1498.922981  9.378940e-12  \n",
              "139243   1.989670  1477.841368  8.826019e+00  \n",
              "251582  -0.007775  1498.922981  6.907140e-12  \n",
              "267268  -5.398870  1511.396487  9.565536e+00  \n",
              "...           ...          ...           ...  \n",
              "299741   0.021375  1498.922981  8.503980e-12  \n",
              "9372    15.437463   905.257231 -5.190014e+00  \n",
              "105595  -4.730019  1475.844314  3.776863e+00  \n",
              "93553   -3.668801  1475.435653 -1.337373e+00  \n",
              "236669  -0.015471  1498.922981  7.861710e-12  \n",
              "\n",
              "[225009 rows x 9 columns]"
            ],
            "text/html": [
              "\n",
              "  <div id=\"df-0161979b-0397-47d4-b92d-949356370237\">\n",
              "    <div class=\"colab-df-container\">\n",
              "      <div>\n",
              "<style scoped>\n",
              "    .dataframe tbody tr th:only-of-type {\n",
              "        vertical-align: middle;\n",
              "    }\n",
              "\n",
              "    .dataframe tbody tr th {\n",
              "        vertical-align: top;\n",
              "    }\n",
              "\n",
              "    .dataframe thead th {\n",
              "        text-align: right;\n",
              "    }\n",
              "</style>\n",
              "<table border=\"1\" class=\"dataframe\">\n",
              "  <thead>\n",
              "    <tr style=\"text-align: right;\">\n",
              "      <th></th>\n",
              "      <th>Time</th>\n",
              "      <th>Isa</th>\n",
              "      <th>Isb</th>\n",
              "      <th>Isc</th>\n",
              "      <th>Ira</th>\n",
              "      <th>Irb</th>\n",
              "      <th>Irc</th>\n",
              "      <th>Speed</th>\n",
              "      <th>Torque</th>\n",
              "    </tr>\n",
              "  </thead>\n",
              "  <tbody>\n",
              "    <tr>\n",
              "      <th>53223</th>\n",
              "      <td>0.886869</td>\n",
              "      <td>-8.121458</td>\n",
              "      <td>3.745556</td>\n",
              "      <td>4.375903</td>\n",
              "      <td>-6.568722</td>\n",
              "      <td>2.024042</td>\n",
              "      <td>4.544680</td>\n",
              "      <td>1490.064445</td>\n",
              "      <td>-3.227787e+01</td>\n",
              "    </tr>\n",
              "    <tr>\n",
              "      <th>280052</th>\n",
              "      <td>4.667319</td>\n",
              "      <td>-1.568801</td>\n",
              "      <td>2.484870</td>\n",
              "      <td>-0.916069</td>\n",
              "      <td>0.037696</td>\n",
              "      <td>0.004147</td>\n",
              "      <td>-0.041843</td>\n",
              "      <td>1498.922981</td>\n",
              "      <td>9.378940e-12</td>\n",
              "    </tr>\n",
              "    <tr>\n",
              "      <th>139243</th>\n",
              "      <td>2.320519</td>\n",
              "      <td>-8.308199</td>\n",
              "      <td>-1.502413</td>\n",
              "      <td>9.810612</td>\n",
              "      <td>9.189892</td>\n",
              "      <td>-11.179561</td>\n",
              "      <td>1.989670</td>\n",
              "      <td>1477.841368</td>\n",
              "      <td>8.826019e+00</td>\n",
              "    </tr>\n",
              "    <tr>\n",
              "      <th>251582</th>\n",
              "      <td>4.192819</td>\n",
              "      <td>-1.693944</td>\n",
              "      <td>-0.760934</td>\n",
              "      <td>2.454878</td>\n",
              "      <td>-0.035472</td>\n",
              "      <td>0.043247</td>\n",
              "      <td>-0.007775</td>\n",
              "      <td>1498.922981</td>\n",
              "      <td>6.907140e-12</td>\n",
              "    </tr>\n",
              "    <tr>\n",
              "      <th>267268</th>\n",
              "      <td>4.454269</td>\n",
              "      <td>-4.901083</td>\n",
              "      <td>-11.169165</td>\n",
              "      <td>16.070247</td>\n",
              "      <td>-7.812006</td>\n",
              "      <td>13.210876</td>\n",
              "      <td>-5.398870</td>\n",
              "      <td>1511.396487</td>\n",
              "      <td>9.565536e+00</td>\n",
              "    </tr>\n",
              "    <tr>\n",
              "      <th>...</th>\n",
              "      <td>...</td>\n",
              "      <td>...</td>\n",
              "      <td>...</td>\n",
              "      <td>...</td>\n",
              "      <td>...</td>\n",
              "      <td>...</td>\n",
              "      <td>...</td>\n",
              "      <td>...</td>\n",
              "      <td>...</td>\n",
              "    </tr>\n",
              "    <tr>\n",
              "      <th>299741</th>\n",
              "      <td>4.995469</td>\n",
              "      <td>0.233191</td>\n",
              "      <td>-2.283774</td>\n",
              "      <td>2.050583</td>\n",
              "      <td>-0.046069</td>\n",
              "      <td>0.024694</td>\n",
              "      <td>0.021375</td>\n",
              "      <td>1498.922981</td>\n",
              "      <td>8.503980e-12</td>\n",
              "    </tr>\n",
              "    <tr>\n",
              "      <th>9372</th>\n",
              "      <td>0.156019</td>\n",
              "      <td>2.900769</td>\n",
              "      <td>-19.986235</td>\n",
              "      <td>17.085466</td>\n",
              "      <td>2.461068</td>\n",
              "      <td>-17.898530</td>\n",
              "      <td>15.437463</td>\n",
              "      <td>905.257231</td>\n",
              "      <td>-5.190014e+00</td>\n",
              "    </tr>\n",
              "    <tr>\n",
              "      <th>105595</th>\n",
              "      <td>1.759719</td>\n",
              "      <td>-11.806425</td>\n",
              "      <td>5.310527</td>\n",
              "      <td>6.495898</td>\n",
              "      <td>13.223988</td>\n",
              "      <td>-8.493969</td>\n",
              "      <td>-4.730019</td>\n",
              "      <td>1475.844314</td>\n",
              "      <td>3.776863e+00</td>\n",
              "    </tr>\n",
              "    <tr>\n",
              "      <th>93553</th>\n",
              "      <td>1.559019</td>\n",
              "      <td>-9.985155</td>\n",
              "      <td>9.135854</td>\n",
              "      <td>0.849300</td>\n",
              "      <td>12.427000</td>\n",
              "      <td>-8.758200</td>\n",
              "      <td>-3.668801</td>\n",
              "      <td>1475.435653</td>\n",
              "      <td>-1.337373e+00</td>\n",
              "    </tr>\n",
              "    <tr>\n",
              "      <th>236669</th>\n",
              "      <td>3.944269</td>\n",
              "      <td>0.704395</td>\n",
              "      <td>1.737137</td>\n",
              "      <td>-2.441532</td>\n",
              "      <td>0.045352</td>\n",
              "      <td>-0.029881</td>\n",
              "      <td>-0.015471</td>\n",
              "      <td>1498.922981</td>\n",
              "      <td>7.861710e-12</td>\n",
              "    </tr>\n",
              "  </tbody>\n",
              "</table>\n",
              "<p>225009 rows × 9 columns</p>\n",
              "</div>\n",
              "      <button class=\"colab-df-convert\" onclick=\"convertToInteractive('df-0161979b-0397-47d4-b92d-949356370237')\"\n",
              "              title=\"Convert this dataframe to an interactive table.\"\n",
              "              style=\"display:none;\">\n",
              "        \n",
              "  <svg xmlns=\"http://www.w3.org/2000/svg\" height=\"24px\"viewBox=\"0 0 24 24\"\n",
              "       width=\"24px\">\n",
              "    <path d=\"M0 0h24v24H0V0z\" fill=\"none\"/>\n",
              "    <path d=\"M18.56 5.44l.94 2.06.94-2.06 2.06-.94-2.06-.94-.94-2.06-.94 2.06-2.06.94zm-11 1L8.5 8.5l.94-2.06 2.06-.94-2.06-.94L8.5 2.5l-.94 2.06-2.06.94zm10 10l.94 2.06.94-2.06 2.06-.94-2.06-.94-.94-2.06-.94 2.06-2.06.94z\"/><path d=\"M17.41 7.96l-1.37-1.37c-.4-.4-.92-.59-1.43-.59-.52 0-1.04.2-1.43.59L10.3 9.45l-7.72 7.72c-.78.78-.78 2.05 0 2.83L4 21.41c.39.39.9.59 1.41.59.51 0 1.02-.2 1.41-.59l7.78-7.78 2.81-2.81c.8-.78.8-2.07 0-2.86zM5.41 20L4 18.59l7.72-7.72 1.47 1.35L5.41 20z\"/>\n",
              "  </svg>\n",
              "      </button>\n",
              "      \n",
              "  <style>\n",
              "    .colab-df-container {\n",
              "      display:flex;\n",
              "      flex-wrap:wrap;\n",
              "      gap: 12px;\n",
              "    }\n",
              "\n",
              "    .colab-df-convert {\n",
              "      background-color: #E8F0FE;\n",
              "      border: none;\n",
              "      border-radius: 50%;\n",
              "      cursor: pointer;\n",
              "      display: none;\n",
              "      fill: #1967D2;\n",
              "      height: 32px;\n",
              "      padding: 0 0 0 0;\n",
              "      width: 32px;\n",
              "    }\n",
              "\n",
              "    .colab-df-convert:hover {\n",
              "      background-color: #E2EBFA;\n",
              "      box-shadow: 0px 1px 2px rgba(60, 64, 67, 0.3), 0px 1px 3px 1px rgba(60, 64, 67, 0.15);\n",
              "      fill: #174EA6;\n",
              "    }\n",
              "\n",
              "    [theme=dark] .colab-df-convert {\n",
              "      background-color: #3B4455;\n",
              "      fill: #D2E3FC;\n",
              "    }\n",
              "\n",
              "    [theme=dark] .colab-df-convert:hover {\n",
              "      background-color: #434B5C;\n",
              "      box-shadow: 0px 1px 3px 1px rgba(0, 0, 0, 0.15);\n",
              "      filter: drop-shadow(0px 1px 2px rgba(0, 0, 0, 0.3));\n",
              "      fill: #FFFFFF;\n",
              "    }\n",
              "  </style>\n",
              "\n",
              "      <script>\n",
              "        const buttonEl =\n",
              "          document.querySelector('#df-0161979b-0397-47d4-b92d-949356370237 button.colab-df-convert');\n",
              "        buttonEl.style.display =\n",
              "          google.colab.kernel.accessAllowed ? 'block' : 'none';\n",
              "\n",
              "        async function convertToInteractive(key) {\n",
              "          const element = document.querySelector('#df-0161979b-0397-47d4-b92d-949356370237');\n",
              "          const dataTable =\n",
              "            await google.colab.kernel.invokeFunction('convertToInteractive',\n",
              "                                                     [key], {});\n",
              "          if (!dataTable) return;\n",
              "\n",
              "          const docLinkHtml = 'Like what you see? Visit the ' +\n",
              "            '<a target=\"_blank\" href=https://colab.research.google.com/notebooks/data_table.ipynb>data table notebook</a>'\n",
              "            + ' to learn more about interactive tables.';\n",
              "          element.innerHTML = '';\n",
              "          dataTable['output_type'] = 'display_data';\n",
              "          await google.colab.output.renderOutput(dataTable, element);\n",
              "          const docLink = document.createElement('div');\n",
              "          docLink.innerHTML = docLinkHtml;\n",
              "          element.appendChild(docLink);\n",
              "        }\n",
              "      </script>\n",
              "    </div>\n",
              "  </div>\n",
              "  "
            ]
          },
          "metadata": {},
          "execution_count": 22
        }
      ],
      "source": [
        "xtrain"
      ]
    },
    {
      "cell_type": "code",
      "execution_count": null,
      "metadata": {
        "id": "07OKq9wmQ1C1"
      },
      "outputs": [],
      "source": [
        "from sklearn.preprocessing import StandardScaler\n",
        "scaler = StandardScaler()"
      ]
    },
    {
      "cell_type": "code",
      "execution_count": null,
      "metadata": {
        "id": "4iY5cJ5aQ1Fy"
      },
      "outputs": [],
      "source": [
        "scaler.fit(xtrain)\n",
        "x_train = scaler.transform(xtrain)\n",
        "x_test = scaler.transform(xtest)"
      ]
    },
    {
      "cell_type": "code",
      "source": [
        "x_train"
      ],
      "metadata": {
        "colab": {
          "base_uri": "https://localhost:8080/"
        },
        "id": "9P5EoiQVQ237",
        "outputId": "48374936-3b7e-486c-e4ee-db56d36e7968"
      },
      "execution_count": null,
      "outputs": [
        {
          "output_type": "execute_result",
          "data": {
            "text/plain": [
              "array([[-1.11972742, -1.20549237,  0.51801773, ...,  0.6798469 ,\n",
              "         0.16699172, -1.88782562],\n",
              "       [ 1.4997215 , -0.2331272 ,  0.34374222, ..., -0.01897122,\n",
              "         0.21568168, -0.04339721],\n",
              "       [-0.12636077, -1.23320327, -0.20745419, ...,  0.29055692,\n",
              "         0.09980893,  0.460941  ],\n",
              "       ...,\n",
              "       [-0.5149354 , -1.75231377,  0.73435718, ..., -0.73327758,\n",
              "         0.08883234,  0.17242106],\n",
              "       [-0.65399911, -1.48205091,  1.26316514, ..., -0.57158673,\n",
              "         0.08658618, -0.11981766],\n",
              "       [ 0.99872492,  0.10419799,  0.24037666, ..., -0.01495304,\n",
              "         0.21568168, -0.04339721]])"
            ]
          },
          "metadata": {},
          "execution_count": 26
        }
      ]
    },
    {
      "cell_type": "code",
      "source": [
        "x_test"
      ],
      "metadata": {
        "colab": {
          "base_uri": "https://localhost:8080/"
        },
        "id": "7OYrmNKSRBKP",
        "outputId": "d87fe06c-f360-4fb2-a3b9-21c7af4d32de"
      },
      "execution_count": null,
      "outputs": [
        {
          "output_type": "execute_result",
          "data": {
            "text/plain": [
              "array([[-1.01749099, -0.51882515, -1.70308669, ..., -0.16662114,\n",
              "         0.28673911,  0.26312699],\n",
              "       [-0.82361942, -0.79466453, -1.48611143, ..., -1.37291864,\n",
              "         0.28310041,  0.58060523],\n",
              "       [-0.2496958 ,  0.27585208,  0.07379922, ..., -0.01398336,\n",
              "         0.21568168, -0.04339721],\n",
              "       ...,\n",
              "       [-0.68417462,  0.9192545 , -2.06076753, ..., -0.52948928,\n",
              "         0.26425692, -1.37976587],\n",
              "       [ 0.62497821, -0.13872731,  2.0336595 , ..., -1.86459243,\n",
              "         0.28554781, -0.48735786],\n",
              "       [-0.70790621,  0.35267637, -0.06710486, ..., -0.01217157,\n",
              "         0.21568169, -0.04339721]])"
            ]
          },
          "metadata": {},
          "execution_count": 27
        }
      ]
    },
    {
      "cell_type": "markdown",
      "source": [
        "Feature rating"
      ],
      "metadata": {
        "id": "PMbAwDxQRIje"
      }
    },
    {
      "cell_type": "code",
      "execution_count": null,
      "metadata": {
        "colab": {
          "base_uri": "https://localhost:8080/"
        },
        "id": "U4el9-2XQ1Ip",
        "outputId": "fbf5945e-e4a8-4c3c-be47-a485c596efc3"
      },
      "outputs": [
        {
          "output_type": "execute_result",
          "data": {
            "text/plain": [
              "array([0.        , 0.97890305, 0.98250737, 0.98336324, 0.56018311,\n",
              "       0.5604162 , 0.55909782, 1.01675654, 1.01003445])"
            ]
          },
          "metadata": {},
          "execution_count": 24
        }
      ],
      "source": [
        "from sklearn.feature_selection import mutual_info_classif\n",
        "mutual_info=mutual_info_classif(xtrain,ytrain)\n",
        "mutual_info"
      ]
    },
    {
      "cell_type": "code",
      "execution_count": null,
      "metadata": {
        "colab": {
          "base_uri": "https://localhost:8080/"
        },
        "id": "mQIaNAeuQ1Lp",
        "outputId": "f94742da-bff9-49cc-d80b-08729f3c8811"
      },
      "outputs": [
        {
          "output_type": "execute_result",
          "data": {
            "text/plain": [
              "Speed     1.016757\n",
              "Torque    1.010034\n",
              "Isc       0.983363\n",
              "Isb       0.982507\n",
              "Isa       0.978903\n",
              "Irb       0.560416\n",
              "Ira       0.560183\n",
              "Irc       0.559098\n",
              "Time      0.000000\n",
              "dtype: float64"
            ]
          },
          "metadata": {},
          "execution_count": 25
        }
      ],
      "source": [
        "mutual_info= pd.Series(mutual_info)\n",
        "mutual_info.index=xtrain.columns\n",
        "mutual_info.sort_values(ascending=False)"
      ]
    },
    {
      "cell_type": "code",
      "execution_count": null,
      "metadata": {
        "colab": {
          "base_uri": "https://localhost:8080/",
          "height": 523
        },
        "id": "V5zKS7M-Q1Ow",
        "outputId": "088cda91-7ccc-4210-dfcc-8e537b58fb27"
      },
      "outputs": [
        {
          "output_type": "execute_result",
          "data": {
            "text/plain": [
              "<matplotlib.axes._subplots.AxesSubplot at 0x7f3447647ca0>"
            ]
          },
          "metadata": {},
          "execution_count": 26
        },
        {
          "output_type": "display_data",
          "data": {
            "text/plain": [
              "<Figure size 1440x576 with 1 Axes>"
            ],
            "image/png": "[encoded data removed]"
          },
          "metadata": {
            "needs_background": "light"
          }
        }
      ],
      "source": [
        "mutual_info.sort_values(ascending=False).plot.bar(figsize=(20,8))"
      ]
    },
    {
      "cell_type": "code",
      "source": [
        "!pip install keras"
      ],
      "metadata": {
        "colab": {
          "base_uri": "https://localhost:8080/"
        },
        "id": "FfalgN5rRPvN",
        "outputId": "dd8005e5-8346-453f-a340-60dccef80837"
      },
      "execution_count": null,
      "outputs": [
        {
          "output_type": "stream",
          "name": "stdout",
          "text": [
            "Looking in indexes: https://pypi.org/simple, https://us-python.pkg.dev/colab-wheels/public/simple/\n",
            "Requirement already satisfied: keras in /usr/local/lib/python3.8/dist-packages (2.9.0)\n"
          ]
        }
      ]
    },
    {
      "cell_type": "code",
      "source": [
        "from tensorflow import keras\n",
        "from keras.models import Sequential\n",
        "from keras.layers import Dense,Dropout\n",
        "from tensorflow.keras import optimizers\n",
        "from tensorflow.keras.optimizers import Adam ,SGD\n",
        "from tensorflow.keras.utils import to_categorical\n"
      ],
      "metadata": {
        "id": "XEfh6jcFTsIN"
      },
      "execution_count": null,
      "outputs": []
    },
    {
      "cell_type": "code",
      "source": [
        "y_train = to_categorical(ytrain, 3)\n",
        "y_test = to_categorical(ytest, 3)"
      ],
      "metadata": {
        "id": "dI_XSxicPzYd"
      },
      "execution_count": null,
      "outputs": []
    },
    {
      "cell_type": "code",
      "source": [
        "model = Sequential()"
      ],
      "metadata": {
        "id": "wlJXbd6qzZT0"
      },
      "execution_count": null,
      "outputs": []
    },
    {
      "cell_type": "code",
      "execution_count": null,
      "metadata": {
        "id": "ew7avWjZQ1U5"
      },
      "outputs": [],
      "source": [
        "model.add(Dense(128,input_dim=9,kernel_initializer='normal',activation='relu'))#input layer\n",
        "model.add(Dropout(0.5))\n",
        "model.add(Dense(160,kernel_initializer='normal',activation='relu'))\n",
        "model.add(Dropout(0.5))\n",
        "model.add(Dense(125,kernel_initializer='normal',activation='relu'))\n",
        "model.add(Dropout(0.5))\n",
        "model.add(Dense(75,kernel_initializer='normal',activation='relu'))\n",
        "model.add(Dropout(0.5))\n",
        "model.add(Dense(50,kernel_initializer='normal',activation='relu'))\n",
        "model.add(Dropout(0.5))\n",
        "model.add(Dense(3,activation='softmax'))#output layer\n"
      ]
    },
    {
      "cell_type": "code",
      "source": [
        "model.compile(optimizer=\"Adam\",\n",
        "              loss='categorical_crossentropy',\n",
        "              metrics=['accuracy'])"
      ],
      "metadata": {
        "id": "uv7-6h4R2NuU"
      },
      "execution_count": null,
      "outputs": []
    },
    {
      "cell_type": "code",
      "execution_count": null,
      "metadata": {
        "colab": {
          "base_uri": "https://localhost:8080/"
        },
        "id": "BXTtsmSVQ1Xs",
        "outputId": "4ebcfac4-154a-4b38-f22f-fea3718ba6a0"
      },
      "outputs": [
        {
          "output_type": "stream",
          "name": "stdout",
          "text": [
            "Model: \"sequential\"\n",
            "_________________________________________________________________\n",
            " Layer (type)                Output Shape              Param #   \n",
            "=================================================================\n",
            " dense (Dense)               (None, 128)               1280      \n",
            "                                                                 \n",
            " dropout (Dropout)           (None, 128)               0         \n",
            "                                                                 \n",
            " dense_1 (Dense)             (None, 160)               20640     \n",
            "                                                                 \n",
            " dropout_1 (Dropout)         (None, 160)               0         \n",
            "                                                                 \n",
            " dense_2 (Dense)             (None, 125)               20125     \n",
            "                                                                 \n",
            " dropout_2 (Dropout)         (None, 125)               0         \n",
            "                                                                 \n",
            " dense_3 (Dense)             (None, 75)                9450      \n",
            "                                                                 \n",
            " dropout_3 (Dropout)         (None, 75)                0         \n",
            "                                                                 \n",
            " dense_4 (Dense)             (None, 50)                3800      \n",
            "                                                                 \n",
            " dropout_4 (Dropout)         (None, 50)                0         \n",
            "                                                                 \n",
            " dense_5 (Dense)             (None, 3)                 153       \n",
            "                                                                 \n",
            "=================================================================\n",
            "Total params: 55,448\n",
            "Trainable params: 55,448\n",
            "Non-trainable params: 0\n",
            "_________________________________________________________________\n"
          ]
        }
      ],
      "source": [
        "model.summary()"
      ]
    },
    {
      "cell_type": "code",
      "execution_count": null,
      "metadata": {
        "colab": {
          "base_uri": "https://localhost:8080/"
        },
        "id": "4wFMG7q3Q1ap",
        "outputId": "56aa9fae-bc36-43f4-d476-96f8499e9cae"
      },
      "outputs": [
        {
          "output_type": "stream",
          "name": "stdout",
          "text": [
            "Epoch 1/30\n",
            "5626/5626 [==============================] - 37s 6ms/step - loss: 0.4992 - accuracy: 0.6568 - val_loss: 0.4815 - val_accuracy: 0.6577\n",
            "Epoch 2/30\n",
            "5626/5626 [==============================] - 21s 4ms/step - loss: 0.4851 - accuracy: 0.6587 - val_loss: 0.4796 - val_accuracy: 0.6611\n",
            "Epoch 3/30\n",
            "5626/5626 [==============================] - 19s 3ms/step - loss: 0.4838 - accuracy: 0.6622 - val_loss: 0.4792 - val_accuracy: 0.6658\n",
            "Epoch 4/30\n",
            "5626/5626 [==============================] - 19s 3ms/step - loss: 0.4814 - accuracy: 0.6704 - val_loss: 0.4721 - val_accuracy: 0.7029\n",
            "Epoch 5/30\n",
            "5626/5626 [==============================] - 21s 4ms/step - loss: 0.4799 - accuracy: 0.6830 - val_loss: 0.4688 - val_accuracy: 0.7213\n",
            "Epoch 6/30\n",
            "5626/5626 [==============================] - 20s 4ms/step - loss: 0.4772 - accuracy: 0.6942 - val_loss: 0.4659 - val_accuracy: 0.7217\n",
            "Epoch 7/30\n",
            "5626/5626 [==============================] - 20s 4ms/step - loss: 0.4746 - accuracy: 0.7017 - val_loss: 0.4634 - val_accuracy: 0.7261\n",
            "Epoch 8/30\n",
            "5626/5626 [==============================] - 19s 3ms/step - loss: 0.4714 - accuracy: 0.7026 - val_loss: 0.4526 - val_accuracy: 0.7212\n",
            "Epoch 9/30\n",
            "5626/5626 [==============================] - 18s 3ms/step - loss: 0.4656 - accuracy: 0.7054 - val_loss: 0.4457 - val_accuracy: 0.7167\n",
            "Epoch 10/30\n",
            "5626/5626 [==============================] - 21s 4ms/step - loss: 0.4609 - accuracy: 0.7060 - val_loss: 0.4419 - val_accuracy: 0.7230\n",
            "Epoch 11/30\n",
            "5626/5626 [==============================] - 20s 4ms/step - loss: 0.4551 - accuracy: 0.7114 - val_loss: 0.4188 - val_accuracy: 0.7365\n",
            "Epoch 12/30\n",
            "5626/5626 [==============================] - 19s 3ms/step - loss: 0.4352 - accuracy: 0.7238 - val_loss: 0.3783 - val_accuracy: 0.7724\n",
            "Epoch 13/30\n",
            "5626/5626 [==============================] - 19s 3ms/step - loss: 0.4143 - accuracy: 0.7470 - val_loss: 0.3641 - val_accuracy: 0.7844\n",
            "Epoch 14/30\n",
            "5626/5626 [==============================] - 18s 3ms/step - loss: 0.4046 - accuracy: 0.7584 - val_loss: 0.3530 - val_accuracy: 0.7966\n",
            "Epoch 15/30\n",
            "5626/5626 [==============================] - 18s 3ms/step - loss: 0.3870 - accuracy: 0.7729 - val_loss: 0.3078 - val_accuracy: 0.8422\n",
            "Epoch 16/30\n",
            "5626/5626 [==============================] - 19s 3ms/step - loss: 0.3615 - accuracy: 0.8066 - val_loss: 0.2473 - val_accuracy: 0.9047\n",
            "Epoch 17/30\n",
            "5626/5626 [==============================] - 18s 3ms/step - loss: 0.3232 - accuracy: 0.8519 - val_loss: 0.1870 - val_accuracy: 0.9460\n",
            "Epoch 18/30\n",
            "5626/5626 [==============================] - 19s 3ms/step - loss: 0.2805 - accuracy: 0.8853 - val_loss: 0.1243 - val_accuracy: 0.9663\n",
            "Epoch 19/30\n",
            "5626/5626 [==============================] - 19s 3ms/step - loss: 0.2448 - accuracy: 0.9050 - val_loss: 0.0899 - val_accuracy: 0.9739\n",
            "Epoch 20/30\n",
            "5626/5626 [==============================] - 19s 3ms/step - loss: 0.2176 - accuracy: 0.9191 - val_loss: 0.0782 - val_accuracy: 0.9750\n",
            "Epoch 21/30\n",
            "5626/5626 [==============================] - 19s 3ms/step - loss: 0.1985 - accuracy: 0.9287 - val_loss: 0.0630 - val_accuracy: 0.9784\n",
            "Epoch 22/30\n",
            "5626/5626 [==============================] - 20s 4ms/step - loss: 0.1848 - accuracy: 0.9337 - val_loss: 0.0612 - val_accuracy: 0.9771\n",
            "Epoch 23/30\n",
            "5626/5626 [==============================] - 20s 4ms/step - loss: 0.1738 - accuracy: 0.9373 - val_loss: 0.0597 - val_accuracy: 0.9763\n",
            "Epoch 24/30\n",
            "5626/5626 [==============================] - 19s 3ms/step - loss: 0.1634 - accuracy: 0.9417 - val_loss: 0.0540 - val_accuracy: 0.9790\n",
            "Epoch 25/30\n",
            "5626/5626 [==============================] - 20s 4ms/step - loss: 0.1560 - accuracy: 0.9438 - val_loss: 0.0575 - val_accuracy: 0.9785\n",
            "Epoch 26/30\n",
            "5626/5626 [==============================] - 20s 4ms/step - loss: 0.1515 - accuracy: 0.9458 - val_loss: 0.0496 - val_accuracy: 0.9788\n",
            "Epoch 27/30\n",
            "5626/5626 [==============================] - 21s 4ms/step - loss: 0.1412 - accuracy: 0.9490 - val_loss: 0.0511 - val_accuracy: 0.9770\n",
            "Epoch 28/30\n",
            "5626/5626 [==============================] - 19s 3ms/step - loss: 0.1391 - accuracy: 0.9495 - val_loss: 0.0513 - val_accuracy: 0.9760\n",
            "Epoch 29/30\n",
            "5626/5626 [==============================] - 20s 4ms/step - loss: 0.1367 - accuracy: 0.9509 - val_loss: 0.0471 - val_accuracy: 0.9781\n",
            "Epoch 30/30\n",
            "5626/5626 [==============================] - 19s 3ms/step - loss: 0.1330 - accuracy: 0.9520 - val_loss: 0.0470 - val_accuracy: 0.9777\n"
          ]
        },
        {
          "output_type": "execute_result",
          "data": {
            "text/plain": [
              "<keras.callbacks.History at 0x7f64ad1b0970>"
            ]
          },
          "metadata": {},
          "execution_count": 37
        }
      ],
      "source": [
        "model.fit(x_train,y_train,validation_split=0.2,epochs=30)"
      ]
    },
    {
      "cell_type": "code",
      "source": [
        "y_pred = model.predict(x_test)\n",
        "ytest_class = np.argmax(y_test,axis=1)\n",
        "y_pred_class = np.argmax(y_pred,axis=1)"
      ],
      "metadata": {
        "id": "t25CHbft0Bgh",
        "colab": {
          "base_uri": "https://localhost:8080/"
        },
        "outputId": "2c53dbcc-0d5c-4722-8b55-2a226b3641db"
      },
      "execution_count": null,
      "outputs": [
        {
          "output_type": "stream",
          "name": "stdout",
          "text": [
            "2344/2344 [==============================] - 3s 1ms/step\n"
          ]
        }
      ]
    },
    {
      "cell_type": "code",
      "execution_count": null,
      "metadata": {
        "id": "qSpeTXncQ1jt",
        "colab": {
          "base_uri": "https://localhost:8080/"
        },
        "outputId": "4c86e022-61da-4c38-d260-8b9a0b955178"
      },
      "outputs": [
        {
          "output_type": "stream",
          "name": "stdout",
          "text": [
            "              precision    recall  f1-score   support\n",
            "\n",
            "           0       0.96      1.00      0.98     25283\n",
            "           1       0.99      0.96      0.97     24790\n",
            "           2       0.98      0.97      0.98     24930\n",
            "\n",
            "    accuracy                           0.98     75003\n",
            "   macro avg       0.98      0.98      0.98     75003\n",
            "weighted avg       0.98      0.98      0.98     75003\n",
            "\n"
          ]
        }
      ],
      "source": [
        "from sklearn.metrics import classification_report\n",
        "print(classification_report(ytest_class,y_pred_class))"
      ]
    },
    {
      "cell_type": "code",
      "source": [
        "from sklearn.metrics import roc_curve,auc\n",
        "predict_prob=model.predict(x_test)\n",
        "predict_prob.shape\n"
      ],
      "metadata": {
        "colab": {
          "base_uri": "https://localhost:8080/"
        },
        "id": "YkfbmBIBHDdZ",
        "outputId": "d5281c0a-ae3d-401e-e084-ad435fbb4424"
      },
      "execution_count": null,
      "outputs": [
        {
          "output_type": "stream",
          "name": "stdout",
          "text": [
            "2344/2344 [==============================] - 3s 1ms/step\n"
          ]
        },
        {
          "output_type": "execute_result",
          "data": {
            "text/plain": [
              "(75003, 3)"
            ]
          },
          "metadata": {},
          "execution_count": 42
        }
      ]
    },
    {
      "cell_type": "code",
      "source": [
        "from sklearn.preprocessing import label_binarize\n",
        "classes = np.unique(ytest)\n",
        "ytest_binarized = label_binarize(ytest,classes = np.unique(ytest))"
      ],
      "metadata": {
        "id": "iFDL_6gkHDoh"
      },
      "execution_count": null,
      "outputs": []
    },
    {
      "cell_type": "code",
      "source": [
        "fpr = {}\n",
        "tpr = {}\n",
        "thresh = {}\n",
        "roc_auc = dict()\n",
        "n_class = classes.shape[0]\n",
        "for i in range(n_class):\n",
        "  fpr[i],tpr[i],thresh[i] = roc_curve(ytest_binarized[:,i],predict_prob[:,i])\n",
        "  roc_auc[i] = auc(fpr[i],tpr[i])"
      ],
      "metadata": {
        "id": "w1mr-k8UHDy_"
      },
      "execution_count": null,
      "outputs": []
    },
    {
      "cell_type": "code",
      "source": [
        "#plotting\n",
        "plt.plot(fpr[0], tpr[0], linestyle='--',color='orange', label='Class 0 vs Rest(AUC=%0.2f)'%(roc_auc[0]))\n",
        "plt.plot(fpr[1], tpr[1], linestyle='--',color='green', label='Class 1 vs Rest(AUC=%0.2f)'%(roc_auc[1]))\n",
        "plt.plot(fpr[2], tpr[2], linestyle='--',color='blue', label='Class 2 vs Rest(AUC=%0.2f)'%(roc_auc[2]))\n",
        "plt.plot([0,1],[0,1],'r--')\n",
        "plt.xlim([0,1])\n",
        "plt.ylim([0,1.05])\n",
        "plt.title('Multiclass ROC curve')\n",
        "plt.xlabel('False positive rate')\n",
        "plt.ylabel('True positive rate')\n",
        "plt.legend(loc = 'Lower right')\n",
        "plt.show()"
      ],
      "metadata": {
        "colab": {
          "base_uri": "https://localhost:8080/",
          "height": 538
        },
        "id": "ZSKaq7nXHD8H",
        "outputId": "5a3f8021-cf3d-4254-cef4-ae2c835d94d9"
      },
      "execution_count": null,
      "outputs": [
        {
          "output_type": "stream",
          "name": "stderr",
          "text": [
            "<ipython-input-59-7a52747d5598>:11: MatplotlibDeprecationWarning: Unrecognized location 'Lower right'. Falling back on 'best'; valid locations are\n",
            "\tbest\n",
            "\tupper right\n",
            "\tupper left\n",
            "\tlower left\n",
            "\tlower right\n",
            "\tright\n",
            "\tcenter left\n",
            "\tcenter right\n",
            "\tlower center\n",
            "\tupper center\n",
            "\tcenter\n",
            "This will raise an exception in 3.3.\n",
            "  plt.legend(loc = 'Lower right')\n"
          ]
        },
        {
          "output_type": "display_data",
          "data": {
            "text/plain": [
              "<Figure size 432x288 with 1 Axes>"
            ],
            "image/png": "[encoded data removed]"
          },
          "metadata": {
            "needs_background": "light"
          }
        }
      ]
    },
    {
      "cell_type": "code",
      "source": [
        "from sklearn.metrics import confusion_matrix\n",
        "c_mat = confusion_matrix(ytest_class,y_pred_class)\n",
        "c_mat"
      ],
      "metadata": {
        "id": "j615s4KvHEF2",
        "colab": {
          "base_uri": "https://localhost:8080/"
        },
        "outputId": "63f50175-720f-4c8d-fdf5-037ba4b93572"
      },
      "execution_count": null,
      "outputs": [
        {
          "output_type": "execute_result",
          "data": {
            "text/plain": [
              "array([[25282,     0,     1],\n",
              "       [  378, 23776,   636],\n",
              "       [  375,    30, 24525]])"
            ]
          },
          "metadata": {},
          "execution_count": 60
        }
      ]
    },
    {
      "cell_type": "code",
      "source": [
        "ax= plt.subplot()\n",
        "confusion_matrix = pdNew.DataFrame(c_mat, range(3), range(3))\n",
        "snNew.heatmap(confusion_matrix, annot=True ,cmap=\"YlGn\", ax=ax)\n",
        "\n",
        "ax.set_xlabel('Predicted labels');ax.set_ylabel('True labels');\n",
        "ax.xaxis.set_ticklabels(['Ideal', '5%Fault','10%Fault']); ax.yaxis.set_ticklabels(['Ideal', '5%Fault','10%Fault']);"
      ],
      "metadata": {
        "colab": {
          "base_uri": "https://localhost:8080/",
          "height": 281
        },
        "id": "ndOJJuSVbbIC",
        "outputId": "fc2ab995-6e86-4848-c825-4c2982140865"
      },
      "execution_count": null,
      "outputs": [
        {
          "output_type": "display_data",
          "data": {
            "text/plain": [
              "<Figure size 432x288 with 2 Axes>"
            ],
            "image/png": "[encoded data removed]"
          },
          "metadata": {
            "needs_background": "light"
          }
        }
      ]
    }
  ],
  "metadata": {
    "colab": {
      "provenance": [],
      "include_colab_link": true
    },
    "kernelspec": {
      "display_name": "Python 3",
      "name": "python3"
    },
    "language_info": {
      "name": "python"
    }
  },
  "nbformat": 4,
  "nbformat_minor": 0
}