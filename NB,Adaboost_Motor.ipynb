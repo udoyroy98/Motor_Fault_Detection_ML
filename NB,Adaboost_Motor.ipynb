{
  "nbformat": 4,
  "nbformat_minor": 0,
  "metadata": {
    "colab": {
      "provenance": [],
      "authorship_tag": "ABX9TyODOgpnZV/2uJsnb7zncydx"
    },
    "kernelspec": {
      "name": "python3",
      "display_name": "Python 3"
    },
    "language_info": {
      "name": "python"
    }
  },
  "cells": [
    {
      "cell_type": "code",
      "execution_count": null,
      "metadata": {
        "id": "Clpr6GV9VxTB"
      },
      "outputs": [],
      "source": [
        "import pandas as pd\n",
        "import numpy as np\n",
        "import seaborn as sns\n",
        "import matplotlib as plt\n",
        "import matplotlib.pyplot as plt\n",
        "from google.colab import drive\n",
        "import seaborn as snNew\n",
        "import pandas as pdNew\n",
        "import matplotlib.pyplot as pltNew\n"
      ]
    },
    {
      "cell_type": "code",
      "source": [
        "drive.mount('/content/drive')\n",
        "data = pd.read_csv('/content/drive/MyDrive/Dataset/0-5train.csv')\n"
      ],
      "metadata": {
        "id": "YMTgCx1NV4au"
      },
      "execution_count": null,
      "outputs": []
    },
    {
      "cell_type": "code",
      "source": [
        "x = data.iloc[:,:-1]\n",
        "y = data.iloc[:,9]\n"
      ],
      "metadata": {
        "id": "i3Fs-ER2V4d1"
      },
      "execution_count": null,
      "outputs": []
    },
    {
      "cell_type": "code",
      "source": [
        "from sklearn.model_selection import train_test_split\n",
        "xtrain,xtest,ytrain,ytest = train_test_split(x,y,test_size=0.25 , random_state=42)\n",
        "#normalize\n",
        "from sklearn.preprocessing import StandardScaler\n",
        "sc = StandardScaler()\n",
        "xtrain = sc.fit_transform(xtrain)\n",
        "xtest = sc.transform(xtest)\n"
      ],
      "metadata": {
        "id": "vrCUhPQIV4gt"
      },
      "execution_count": null,
      "outputs": []
    },
    {
      "cell_type": "markdown",
      "source": [
        "Naive Bayes\n"
      ],
      "metadata": {
        "id": "odul6bfUWZvk"
      }
    },
    {
      "cell_type": "code",
      "source": [
        "#@title Default title text\n",
        "from sklearn.multiclass import OneVsRestClassifier\n",
        "from sklearn.ensemble import BaggingClassifier\n",
        "from sklearn.metrics import classification_report\n",
        "from sklearn.naive_bayes import GaussianNB\n",
        "model7 = OneVsRestClassifier(BaggingClassifier(GaussianNB()))\n",
        "model7.fit(xtrain, ytrain) #train model\n",
        "y_pred7 = model7.predict(xtest)\n",
        "print(classification_report(ytest, y_pred7)) #accuracy\n"
      ],
      "metadata": {
        "id": "0L0kYqyOV4jx"
      },
      "execution_count": null,
      "outputs": []
    },
    {
      "cell_type": "code",
      "source": [
        "from sklearn.metrics import roc_curve,auc\n",
        "pred_prob7 = model7.predict_proba(xtest)\n",
        "pred_prob7.shape\n",
        "from sklearn.preprocessing import label_binarize\n",
        "classes = np.unique(ytest)\n",
        "ytest_binarized = label_binarize(ytest,classes = np.unique(ytest))\n"
      ],
      "metadata": {
        "id": "TB0HE-KcWHF0"
      },
      "execution_count": null,
      "outputs": []
    },
    {
      "cell_type": "code",
      "source": [
        "fpr = {}\n",
        "tpr = {}\n",
        "thresh = {}\n",
        "roc_auc = dict()\n",
        "n_class = classes.shape[0]\n",
        "for i in range(n_class):\n",
        "  fpr[i],tpr[i],thresh[i] = roc_curve(ytest_binarized[:,i],pred_prob7[:,i])\n",
        "  roc_auc[i] = auc(fpr[i],tpr[i])\n"
      ],
      "metadata": {
        "id": "6x4tBxx6WHI-"
      },
      "execution_count": null,
      "outputs": []
    },
    {
      "cell_type": "code",
      "source": [
        "#plotting\n",
        "plt.plot(fpr[0], tpr[0], linestyle='--',color='orange', label='Class 0 vs Rest(AUC=%0.2f)'%(roc_auc[0]))\n",
        "plt.plot(fpr[1], tpr[1], linestyle='--',color='green', label='Class 1 vs Rest(AUC=%0.2f)'%(roc_auc[1]))\n",
        "plt.plot(fpr[2], tpr[2], linestyle='--',color='blue', label='Class 2 vs Rest(AUC=%0.2f)'%(roc_auc[2]))\n",
        "plt.plot([0,1],[0,1],'r--')\n",
        "plt.xlim([0,1])\n",
        "plt.ylim([0,1.05])\n",
        "plt.title('Multiclass ROC curve')\n",
        "plt.xlabel('False positive rate')\n",
        "plt.ylabel('True positive rate')\n",
        "plt.legend(loc = 'Lower right')\n",
        "plt.show()\n"
      ],
      "metadata": {
        "id": "-OQzQvuKWHME"
      },
      "execution_count": null,
      "outputs": []
    },
    {
      "cell_type": "code",
      "source": [
        "from sklearn.metrics import confusion_matrix\n",
        "c_mat7 = confusion_matrix(ytest, y_pred7)\n",
        "c_mat7\n",
        "ax= plt.subplot()\n",
        "confusion_matrix = pdNew.DataFrame(c_mat7, range(3), range(3))\n",
        "snNew.heatmap(confusion_matrix, annot=True ,cmap=\"YlGn\", ax=ax)\n",
        "\n",
        "ax.set_xlabel('Predicted labels');ax.set_ylabel('True labels');\n",
        "ax.xaxis.set_ticklabels(['Ideal', '5%Fault','10%Fault']); ax.yaxis.set_ticklabels(['Ideal', '5%Fault','10%Fault']);\n",
        "pltNew.show()\n"
      ],
      "metadata": {
        "id": "OLJjVFD5WHPO"
      },
      "execution_count": null,
      "outputs": []
    },
    {
      "cell_type": "markdown",
      "source": [
        "Adaboost\n"
      ],
      "metadata": {
        "id": "blgz3Y4UW4iz"
      }
    },
    {
      "cell_type": "code",
      "source": [
        "from sklearn.multiclass import OneVsRestClassifier\n",
        "from sklearn.metrics import classification_report\n",
        "from sklearn.ensemble import AdaBoostClassifier\n",
        "model5=OneVsRestClassifier(AdaBoostClassifier(random_state=4))\n",
        "model5.fit(xtrain, ytrain) #train model\n",
        "y_pred5 = model5.predict(xtest)\n",
        "print(classification_report(ytest, y_pred5)) #accuracy\n"
      ],
      "metadata": {
        "id": "GDsE3CAlWHSM"
      },
      "execution_count": null,
      "outputs": []
    },
    {
      "cell_type": "code",
      "source": [
        "from sklearn.metrics import roc_curve,auc\n",
        "pred_prob5 = model5.predict_proba(xtest)\n",
        "pred_prob5.shape\n",
        "from sklearn.preprocessing import label_binarize\n",
        "classes = np.unique(ytest)\n",
        "ytest_binarized = label_binarize(ytest,classes = np.unique(ytest))\n"
      ],
      "metadata": {
        "id": "Bov-cBNMV4mU"
      },
      "execution_count": null,
      "outputs": []
    },
    {
      "cell_type": "code",
      "source": [
        "fpr = {}\n",
        "tpr = {}\n",
        "thresh = {}\n",
        "roc_auc = dict()\n",
        "n_class = classes.shape[0]\n",
        "for i in range(n_class):\n",
        "  fpr[i],tpr[i],thresh[i] = roc_curve(ytest_binarized[:,i],pred_prob5[:,i])\n",
        "  roc_auc[i] = auc(fpr[i],tpr[i])\n",
        "plt.plot(fpr[0], tpr[0], linestyle='--',color='orange', label='Class 0 vs Rest(AUC=%0.2f)'%(roc_auc[0]))\n",
        "plt.plot(fpr[1], tpr[1], linestyle='--',color='green', label='Class 1 vs Rest(AUC=%0.2f)'%(roc_auc[1]))\n",
        "plt.plot(fpr[2], tpr[2], linestyle='--',color='blue', label='Class 2 vs Rest(AUC=%0.2f)'%(roc_auc[2]))\n",
        "plt.plot([0,1],[0,1],'r--')\n",
        "plt.xlim([0,1])\n",
        "plt.ylim([0,1.05])\n",
        "plt.title('Multiclass ROC curve')\n",
        "plt.xlabel('False positive rate')\n",
        "plt.ylabel('True positive rate')\n",
        "plt.legend(loc = 'Lower right')\n",
        "plt.show()\n"
      ],
      "metadata": {
        "id": "flFqAasuV4pD"
      },
      "execution_count": null,
      "outputs": []
    },
    {
      "cell_type": "code",
      "source": [
        "from sklearn.metrics import confusion_matrix\n",
        "c_mat5 = confusion_matrix(ytest, y_pred5)\n",
        "c_mat5\n",
        "ax= plt.subplot()\n",
        "confusion_matrix = pdNew.DataFrame(c_mat5, range(3), range(3))\n",
        "snNew.heatmap(confusion_matrix, annot=True ,cmap=\"YlGn\", ax=ax)\n",
        "\n",
        "ax.set_xlabel('Predicted labels');ax.set_ylabel('True labels');\n",
        "ax.xaxis.set_ticklabels(['Ideal', '5%Fault','10%Fault']); ax.yaxis.set_ticklabels(['Ideal', '5%Fault','10%Fault']);\n",
        "pltNew.show()"
      ],
      "metadata": {
        "id": "FTTtLtxYV4r8"
      },
      "execution_count": null,
      "outputs": []
    }
  ]
}